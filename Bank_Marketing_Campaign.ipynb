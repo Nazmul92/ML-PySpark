{
 "cells": [
  {
   "cell_type": "markdown",
   "id": "7fac46bc",
   "metadata": {},
   "source": [
    "# Loading libraries"
   ]
  },
  {
   "cell_type": "code",
   "execution_count": 1,
   "id": "c1acceb7",
   "metadata": {},
   "outputs": [],
   "source": [
    "from pyspark.sql import SparkSession\n",
    "from pyspark.sql.functions import*\n",
    "from pyspark.ml.feature import StringIndexer\n",
    "from pyspark.ml import Pipeline\n",
    "from pyspark.sql.functions import udf\n",
    "from pyspark.sql.types import DoubleType\n",
    "from sklearn.metrics import roc_curve, auc\n",
    "import matplotlib.pyplot as plt\n",
    "from sklearn.metrics import confusion_matrix\n",
    "import seaborn as sns\n",
    "from pyspark.ml.classification import RandomForestClassifier, LogisticRegression, DecisionTreeClassifier, GBTClassifier, MultilayerPerceptronClassifier"
   ]
  },
  {
   "cell_type": "markdown",
   "id": "5200e043",
   "metadata": {},
   "source": [
    "# Creating SparkSession"
   ]
  },
  {
   "cell_type": "code",
   "execution_count": 2,
   "id": "3d1aee88",
   "metadata": {},
   "outputs": [],
   "source": [
    "spark = SparkSession.builder.appName('BankMarketing').getOrCreate()"
   ]
  },
  {
   "cell_type": "code",
   "execution_count": 243,
   "id": "8ca84dca",
   "metadata": {},
   "outputs": [
    {
     "data": {
      "text/plain": [
       "'/home/.engr-ece/vfi245'"
      ]
     },
     "execution_count": 243,
     "metadata": {},
     "output_type": "execute_result"
    }
   ],
   "source": [
    "pwd"
   ]
  },
  {
   "cell_type": "code",
   "execution_count": 7,
   "id": "6aa92d9a",
   "metadata": {},
   "outputs": [
    {
     "name": "stdout",
     "output_type": "stream",
     "text": [
      "/data/nazmul\n"
     ]
    }
   ],
   "source": [
    "cd /data/nazmul"
   ]
  },
  {
   "cell_type": "code",
   "execution_count": 245,
   "id": "94ac2d76",
   "metadata": {},
   "outputs": [
    {
     "name": "stdout",
     "output_type": "stream",
     "text": [
      " Acc-adaptive-MAML.pdf                Loss-overall-MAML.pdf\r\n",
      " Acc-MAML-adaptive.pdf                MAML-adaptive.pdf\r\n",
      " Acc-MAML-combined.pdf                MAML-project.ipynb\r\n",
      " Acc-MAML.pdf                         \u001b[0m\u001b[01;34mMusic\u001b[0m/\r\n",
      " Acc-overall-MAML.pdf                 nohup.out\r\n",
      " amazon-user-review-pyspark.ipynb     Pascal_VOC_object_detection_RCNN.ipynb\r\n",
      " \u001b[01;34manaconda3\u001b[0m/                           \u001b[01;34mPictures\u001b[0m/\r\n",
      " \u001b[01;32mAnaconda3-2021.05-Linux-x86_64.sh\u001b[0m*   \u001b[01;34mPublic\u001b[0m/\r\n",
      "'Bank Marketing Campaign.ipynb'       \u001b[01;34mTemplates\u001b[0m/\r\n",
      " \u001b[01;34mdata\u001b[0m/                                \u001b[01;34mtmux-3.2a\u001b[0m/\r\n",
      " \u001b[01;34mDesktop\u001b[0m/                             \u001b[01;31mtmux-3.2a.tar.gz\u001b[0m\r\n",
      " \u001b[01;34mDocuments\u001b[0m/                           Untitled1.ipynb\r\n",
      " \u001b[01;34mDownloads\u001b[0m/                           Untitled2.ipynb\r\n",
      " HAM10k-VirtualMachine.ipynb          Untitled.ipynb\r\n",
      " Loss-adaptive-MAML.pdf               \u001b[01;34mVideos\u001b[0m/\r\n",
      " Loss-MAML.pdf\r\n"
     ]
    }
   ],
   "source": [
    "ls"
   ]
  },
  {
   "cell_type": "code",
   "execution_count": 20,
   "id": "0e95f288",
   "metadata": {},
   "outputs": [
    {
     "name": "stdout",
     "output_type": "stream",
     "text": [
      "Archive:  bank+marketing.zip\r\n",
      " extracting: bank-marketing/bank.zip  \r\n",
      " extracting: bank-marketing/bank-additional.zip  \r\n"
     ]
    }
   ],
   "source": [
    "!unzip bank+marketing.zip -d bank-marketing"
   ]
  },
  {
   "cell_type": "code",
   "execution_count": 246,
   "id": "059fd8a8",
   "metadata": {},
   "outputs": [
    {
     "name": "stdout",
     "output_type": "stream",
     "text": [
      " Acc-adaptive-MAML.pdf                Loss-overall-MAML.pdf\r\n",
      " Acc-MAML-adaptive.pdf                MAML-adaptive.pdf\r\n",
      " Acc-MAML-combined.pdf                MAML-project.ipynb\r\n",
      " Acc-MAML.pdf                         \u001b[0m\u001b[01;34mMusic\u001b[0m/\r\n",
      " Acc-overall-MAML.pdf                 nohup.out\r\n",
      " amazon-user-review-pyspark.ipynb     Pascal_VOC_object_detection_RCNN.ipynb\r\n",
      " \u001b[01;34manaconda3\u001b[0m/                           \u001b[01;34mPictures\u001b[0m/\r\n",
      " \u001b[01;32mAnaconda3-2021.05-Linux-x86_64.sh\u001b[0m*   \u001b[01;34mPublic\u001b[0m/\r\n",
      "'Bank Marketing Campaign.ipynb'       \u001b[01;34mTemplates\u001b[0m/\r\n",
      " \u001b[01;34mdata\u001b[0m/                                \u001b[01;34mtmux-3.2a\u001b[0m/\r\n",
      " \u001b[01;34mDesktop\u001b[0m/                             \u001b[01;31mtmux-3.2a.tar.gz\u001b[0m\r\n",
      " \u001b[01;34mDocuments\u001b[0m/                           Untitled1.ipynb\r\n",
      " \u001b[01;34mDownloads\u001b[0m/                           Untitled2.ipynb\r\n",
      " HAM10k-VirtualMachine.ipynb          Untitled.ipynb\r\n",
      " Loss-adaptive-MAML.pdf               \u001b[01;34mVideos\u001b[0m/\r\n",
      " Loss-MAML.pdf\r\n"
     ]
    }
   ],
   "source": [
    "ls"
   ]
  },
  {
   "cell_type": "code",
   "execution_count": 28,
   "id": "908d2c5b",
   "metadata": {},
   "outputs": [
    {
     "name": "stdout",
     "output_type": "stream",
     "text": [
      "Archive:  bank.zip\r\n",
      "  inflating: bank-dataset/bank-full.csv  \r\n",
      "  inflating: bank-dataset/bank-names.txt  \r\n",
      "  inflating: bank-dataset/bank.csv   \r\n"
     ]
    }
   ],
   "source": [
    "!unzip bank.zip -d bank-dataset"
   ]
  },
  {
   "cell_type": "markdown",
   "id": "349142c9",
   "metadata": {},
   "source": [
    "# Loading data using Spark"
   ]
  },
  {
   "cell_type": "code",
   "execution_count": 3,
   "id": "c7802a3b",
   "metadata": {},
   "outputs": [],
   "source": [
    "df = spark.read.option(\"header\", \"true\").option(\"delimiter\", \";\").csv('/data/nazmul/bank-dataset/bank-full.csv')"
   ]
  },
  {
   "cell_type": "code",
   "execution_count": 4,
   "id": "00db6d60",
   "metadata": {},
   "outputs": [
    {
     "name": "stdout",
     "output_type": "stream",
     "text": [
      "+---+------------+--------+---------+-------+-------+-------+----+-------+---+-----+--------+--------+-----+--------+--------+---+\n",
      "|age|         job| marital|education|default|balance|housing|loan|contact|day|month|duration|campaign|pdays|previous|poutcome|  y|\n",
      "+---+------------+--------+---------+-------+-------+-------+----+-------+---+-----+--------+--------+-----+--------+--------+---+\n",
      "| 58|  management| married| tertiary|     no|   2143|    yes|  no|unknown|  5|  may|     261|       1|   -1|       0| unknown| no|\n",
      "| 44|  technician|  single|secondary|     no|     29|    yes|  no|unknown|  5|  may|     151|       1|   -1|       0| unknown| no|\n",
      "| 33|entrepreneur| married|secondary|     no|      2|    yes| yes|unknown|  5|  may|      76|       1|   -1|       0| unknown| no|\n",
      "| 47| blue-collar| married|  unknown|     no|   1506|    yes|  no|unknown|  5|  may|      92|       1|   -1|       0| unknown| no|\n",
      "| 33|     unknown|  single|  unknown|     no|      1|     no|  no|unknown|  5|  may|     198|       1|   -1|       0| unknown| no|\n",
      "| 35|  management| married| tertiary|     no|    231|    yes|  no|unknown|  5|  may|     139|       1|   -1|       0| unknown| no|\n",
      "| 28|  management|  single| tertiary|     no|    447|    yes| yes|unknown|  5|  may|     217|       1|   -1|       0| unknown| no|\n",
      "| 42|entrepreneur|divorced| tertiary|    yes|      2|    yes|  no|unknown|  5|  may|     380|       1|   -1|       0| unknown| no|\n",
      "| 58|     retired| married|  primary|     no|    121|    yes|  no|unknown|  5|  may|      50|       1|   -1|       0| unknown| no|\n",
      "| 43|  technician|  single|secondary|     no|    593|    yes|  no|unknown|  5|  may|      55|       1|   -1|       0| unknown| no|\n",
      "| 41|      admin.|divorced|secondary|     no|    270|    yes|  no|unknown|  5|  may|     222|       1|   -1|       0| unknown| no|\n",
      "| 29|      admin.|  single|secondary|     no|    390|    yes|  no|unknown|  5|  may|     137|       1|   -1|       0| unknown| no|\n",
      "| 53|  technician| married|secondary|     no|      6|    yes|  no|unknown|  5|  may|     517|       1|   -1|       0| unknown| no|\n",
      "| 58|  technician| married|  unknown|     no|     71|    yes|  no|unknown|  5|  may|      71|       1|   -1|       0| unknown| no|\n",
      "| 57|    services| married|secondary|     no|    162|    yes|  no|unknown|  5|  may|     174|       1|   -1|       0| unknown| no|\n",
      "| 51|     retired| married|  primary|     no|    229|    yes|  no|unknown|  5|  may|     353|       1|   -1|       0| unknown| no|\n",
      "| 45|      admin.|  single|  unknown|     no|     13|    yes|  no|unknown|  5|  may|      98|       1|   -1|       0| unknown| no|\n",
      "| 57| blue-collar| married|  primary|     no|     52|    yes|  no|unknown|  5|  may|      38|       1|   -1|       0| unknown| no|\n",
      "| 60|     retired| married|  primary|     no|     60|    yes|  no|unknown|  5|  may|     219|       1|   -1|       0| unknown| no|\n",
      "| 33|    services| married|secondary|     no|      0|    yes|  no|unknown|  5|  may|      54|       1|   -1|       0| unknown| no|\n",
      "+---+------------+--------+---------+-------+-------+-------+----+-------+---+-----+--------+--------+-----+--------+--------+---+\n",
      "only showing top 20 rows\n",
      "\n"
     ]
    }
   ],
   "source": [
    "df.show()"
   ]
  },
  {
   "cell_type": "markdown",
   "id": "882bdc58",
   "metadata": {},
   "source": [
    "# Checking data types"
   ]
  },
  {
   "cell_type": "code",
   "execution_count": 5,
   "id": "76cc2389",
   "metadata": {},
   "outputs": [
    {
     "name": "stdout",
     "output_type": "stream",
     "text": [
      "root\n",
      " |-- age: string (nullable = true)\n",
      " |-- job: string (nullable = true)\n",
      " |-- marital: string (nullable = true)\n",
      " |-- education: string (nullable = true)\n",
      " |-- default: string (nullable = true)\n",
      " |-- balance: string (nullable = true)\n",
      " |-- housing: string (nullable = true)\n",
      " |-- loan: string (nullable = true)\n",
      " |-- contact: string (nullable = true)\n",
      " |-- day: string (nullable = true)\n",
      " |-- month: string (nullable = true)\n",
      " |-- duration: string (nullable = true)\n",
      " |-- campaign: string (nullable = true)\n",
      " |-- pdays: string (nullable = true)\n",
      " |-- previous: string (nullable = true)\n",
      " |-- poutcome: string (nullable = true)\n",
      " |-- y: string (nullable = true)\n",
      "\n"
     ]
    }
   ],
   "source": [
    "df.printSchema()"
   ]
  },
  {
   "cell_type": "code",
   "execution_count": 6,
   "id": "dd8e5bde",
   "metadata": {},
   "outputs": [
    {
     "data": {
      "text/plain": [
       "[('age', 'string'),\n",
       " ('job', 'string'),\n",
       " ('marital', 'string'),\n",
       " ('education', 'string'),\n",
       " ('default', 'string'),\n",
       " ('balance', 'string'),\n",
       " ('housing', 'string'),\n",
       " ('loan', 'string'),\n",
       " ('contact', 'string'),\n",
       " ('day', 'string'),\n",
       " ('month', 'string'),\n",
       " ('duration', 'string'),\n",
       " ('campaign', 'string'),\n",
       " ('pdays', 'string'),\n",
       " ('previous', 'string'),\n",
       " ('poutcome', 'string'),\n",
       " ('y', 'string')]"
      ]
     },
     "execution_count": 6,
     "metadata": {},
     "output_type": "execute_result"
    }
   ],
   "source": [
    "df.dtypes"
   ]
  },
  {
   "cell_type": "markdown",
   "id": "87223432",
   "metadata": {},
   "source": [
    "# Working on Spark SQL "
   ]
  },
  {
   "cell_type": "code",
   "execution_count": 7,
   "id": "9ed79d6f",
   "metadata": {},
   "outputs": [
    {
     "data": {
      "text/plain": [
       "0"
      ]
     },
     "execution_count": 7,
     "metadata": {},
     "output_type": "execute_result"
    }
   ],
   "source": [
    "df.filter((df['age'] == '')| df['age'].isNull() | isnan(df['age'])).count()"
   ]
  },
  {
   "cell_type": "code",
   "execution_count": 8,
   "id": "66b5a2cf",
   "metadata": {},
   "outputs": [
    {
     "name": "stdout",
     "output_type": "stream",
     "text": [
      "+---+---+-------+---------+-------+-------+-------+----+-------+---+-----+--------+--------+-----+--------+--------+---+\n",
      "|age|job|marital|education|default|balance|housing|loan|contact|day|month|duration|campaign|pdays|previous|poutcome|  y|\n",
      "+---+---+-------+---------+-------+-------+-------+----+-------+---+-----+--------+--------+-----+--------+--------+---+\n",
      "|  0|  0|      0|        0|      0|      0|      0|   0|      0|  0|    0|       0|       0|    0|       0|       0|  0|\n",
      "+---+---+-------+---------+-------+-------+-------+----+-------+---+-----+--------+--------+-----+--------+--------+---+\n",
      "\n"
     ]
    }
   ],
   "source": [
    "df.select([count(when((col(c) == '') | col(c).isNull() | isnan(c),c)).alias(c) for c in df.columns]).show()"
   ]
  },
  {
   "cell_type": "code",
   "execution_count": 9,
   "id": "1cc4d2e5",
   "metadata": {},
   "outputs": [
    {
     "data": {
      "text/plain": [
       "DataFrame[summary: string, age: string, job: string, marital: string, education: string, default: string, balance: string, housing: string, loan: string, contact: string, day: string, month: string, duration: string, campaign: string, pdays: string, previous: string, poutcome: string, y: string]"
      ]
     },
     "execution_count": 9,
     "metadata": {},
     "output_type": "execute_result"
    }
   ],
   "source": [
    "df.describe()"
   ]
  },
  {
   "cell_type": "code",
   "execution_count": 10,
   "id": "946000d6",
   "metadata": {},
   "outputs": [
    {
     "data": {
      "text/plain": [
       "45211"
      ]
     },
     "execution_count": 10,
     "metadata": {},
     "output_type": "execute_result"
    }
   ],
   "source": [
    "df.count()"
   ]
  },
  {
   "cell_type": "code",
   "execution_count": 11,
   "id": "015d97d6",
   "metadata": {},
   "outputs": [
    {
     "name": "stdout",
     "output_type": "stream",
     "text": [
      "+-------------+-----+\n",
      "|          job|count|\n",
      "+-------------+-----+\n",
      "|   management| 9458|\n",
      "|      retired| 2264|\n",
      "|      unknown|  288|\n",
      "|self-employed| 1579|\n",
      "|      student|  938|\n",
      "|  blue-collar| 9732|\n",
      "| entrepreneur| 1487|\n",
      "|       admin.| 5171|\n",
      "|   technician| 7597|\n",
      "|     services| 4154|\n",
      "|    housemaid| 1240|\n",
      "|   unemployed| 1303|\n",
      "+-------------+-----+\n",
      "\n"
     ]
    }
   ],
   "source": [
    "df.groupby(df['job']).count().show()"
   ]
  },
  {
   "cell_type": "code",
   "execution_count": 12,
   "id": "c73e914d",
   "metadata": {},
   "outputs": [
    {
     "name": "stdout",
     "output_type": "stream",
     "text": [
      "+--------+-----+\n",
      "| marital|count|\n",
      "+--------+-----+\n",
      "|divorced| 5207|\n",
      "| married|27214|\n",
      "|  single|12790|\n",
      "+--------+-----+\n",
      "\n"
     ]
    }
   ],
   "source": [
    "df.groupby(df['marital']).count().show()"
   ]
  },
  {
   "cell_type": "code",
   "execution_count": 13,
   "id": "563da41d",
   "metadata": {},
   "outputs": [
    {
     "name": "stdout",
     "output_type": "stream",
     "text": [
      "+---------+-----+\n",
      "|education|count|\n",
      "+---------+-----+\n",
      "|  unknown| 1857|\n",
      "| tertiary|13301|\n",
      "|secondary|23202|\n",
      "|  primary| 6851|\n",
      "+---------+-----+\n",
      "\n"
     ]
    }
   ],
   "source": [
    "df.groupby(df['education']).count().show()"
   ]
  },
  {
   "cell_type": "code",
   "execution_count": 14,
   "id": "70681ea3",
   "metadata": {},
   "outputs": [
    {
     "name": "stdout",
     "output_type": "stream",
     "text": [
      "+-------+-----+\n",
      "|default|count|\n",
      "+-------+-----+\n",
      "|     no|44396|\n",
      "|    yes|  815|\n",
      "+-------+-----+\n",
      "\n"
     ]
    }
   ],
   "source": [
    "df.groupby(df['default']).count().show()"
   ]
  },
  {
   "cell_type": "code",
   "execution_count": 15,
   "id": "9ac52647",
   "metadata": {},
   "outputs": [
    {
     "name": "stdout",
     "output_type": "stream",
     "text": [
      "+-------+-----+\n",
      "|balance|count|\n",
      "+-------+-----+\n",
      "|     -4|   15|\n",
      "|   -212|    8|\n",
      "|    675|    9|\n",
      "|    296|   31|\n",
      "|    829|    8|\n",
      "|  56831|    1|\n",
      "|   -650|    2|\n",
      "|   2294|    5|\n",
      "|   7252|    2|\n",
      "|   1572|    6|\n",
      "|   2904|    6|\n",
      "|  10436|    1|\n",
      "|  -1655|    1|\n",
      "|   -757|    1|\n",
      "|   1090|    8|\n",
      "|  45141|    1|\n",
      "|   6613|    2|\n",
      "|   7711|    2|\n",
      "|    -86|    3|\n",
      "|   -874|    2|\n",
      "+-------+-----+\n",
      "only showing top 20 rows\n",
      "\n"
     ]
    }
   ],
   "source": [
    "df.groupby(df['balance']).count().show()"
   ]
  },
  {
   "cell_type": "code",
   "execution_count": 16,
   "id": "3866fdf2",
   "metadata": {},
   "outputs": [
    {
     "name": "stdout",
     "output_type": "stream",
     "text": [
      "+-------+-----+\n",
      "|housing|count|\n",
      "+-------+-----+\n",
      "|     no|20081|\n",
      "|    yes|25130|\n",
      "+-------+-----+\n",
      "\n"
     ]
    }
   ],
   "source": [
    "df.groupby(df['housing']).count().show()"
   ]
  },
  {
   "cell_type": "code",
   "execution_count": 17,
   "id": "651f4dc3",
   "metadata": {},
   "outputs": [
    {
     "name": "stdout",
     "output_type": "stream",
     "text": [
      "+----+-----+\n",
      "|loan|count|\n",
      "+----+-----+\n",
      "|  no|37967|\n",
      "| yes| 7244|\n",
      "+----+-----+\n",
      "\n"
     ]
    }
   ],
   "source": [
    "df.groupby(df['loan']).count().show()"
   ]
  },
  {
   "cell_type": "markdown",
   "id": "cccc87dd",
   "metadata": {},
   "source": [
    "# Converting Spark data frame to pandas data frame"
   ]
  },
  {
   "cell_type": "code",
   "execution_count": 18,
   "id": "9be991ed",
   "metadata": {},
   "outputs": [
    {
     "data": {
      "text/html": [
       "<div>\n",
       "<style scoped>\n",
       "    .dataframe tbody tr th:only-of-type {\n",
       "        vertical-align: middle;\n",
       "    }\n",
       "\n",
       "    .dataframe tbody tr th {\n",
       "        vertical-align: top;\n",
       "    }\n",
       "\n",
       "    .dataframe thead th {\n",
       "        text-align: right;\n",
       "    }\n",
       "</style>\n",
       "<table border=\"1\" class=\"dataframe\">\n",
       "  <thead>\n",
       "    <tr style=\"text-align: right;\">\n",
       "      <th></th>\n",
       "      <th>summary</th>\n",
       "      <th>age</th>\n",
       "      <th>job</th>\n",
       "      <th>marital</th>\n",
       "      <th>education</th>\n",
       "      <th>default</th>\n",
       "      <th>balance</th>\n",
       "      <th>housing</th>\n",
       "      <th>loan</th>\n",
       "      <th>contact</th>\n",
       "      <th>day</th>\n",
       "      <th>month</th>\n",
       "      <th>duration</th>\n",
       "      <th>campaign</th>\n",
       "      <th>pdays</th>\n",
       "      <th>previous</th>\n",
       "      <th>poutcome</th>\n",
       "      <th>y</th>\n",
       "    </tr>\n",
       "  </thead>\n",
       "  <tbody>\n",
       "    <tr>\n",
       "      <th>0</th>\n",
       "      <td>count</td>\n",
       "      <td>45211</td>\n",
       "      <td>45211</td>\n",
       "      <td>45211</td>\n",
       "      <td>45211</td>\n",
       "      <td>45211</td>\n",
       "      <td>45211</td>\n",
       "      <td>45211</td>\n",
       "      <td>45211</td>\n",
       "      <td>45211</td>\n",
       "      <td>45211</td>\n",
       "      <td>45211</td>\n",
       "      <td>45211</td>\n",
       "      <td>45211</td>\n",
       "      <td>45211</td>\n",
       "      <td>45211</td>\n",
       "      <td>45211</td>\n",
       "      <td>45211</td>\n",
       "    </tr>\n",
       "    <tr>\n",
       "      <th>1</th>\n",
       "      <td>mean</td>\n",
       "      <td>40.93621021432837</td>\n",
       "      <td>None</td>\n",
       "      <td>None</td>\n",
       "      <td>None</td>\n",
       "      <td>None</td>\n",
       "      <td>1362.2720576850766</td>\n",
       "      <td>None</td>\n",
       "      <td>None</td>\n",
       "      <td>None</td>\n",
       "      <td>15.80641879188693</td>\n",
       "      <td>None</td>\n",
       "      <td>258.1630797814691</td>\n",
       "      <td>2.763840658246887</td>\n",
       "      <td>40.19782796222158</td>\n",
       "      <td>0.5803233726305546</td>\n",
       "      <td>None</td>\n",
       "      <td>None</td>\n",
       "    </tr>\n",
       "    <tr>\n",
       "      <th>2</th>\n",
       "      <td>stddev</td>\n",
       "      <td>10.618762040975401</td>\n",
       "      <td>None</td>\n",
       "      <td>None</td>\n",
       "      <td>None</td>\n",
       "      <td>None</td>\n",
       "      <td>3044.7658291685243</td>\n",
       "      <td>None</td>\n",
       "      <td>None</td>\n",
       "      <td>None</td>\n",
       "      <td>8.322476153044589</td>\n",
       "      <td>None</td>\n",
       "      <td>257.5278122651712</td>\n",
       "      <td>3.0980208832791813</td>\n",
       "      <td>100.12874599059818</td>\n",
       "      <td>2.3034410449312164</td>\n",
       "      <td>None</td>\n",
       "      <td>None</td>\n",
       "    </tr>\n",
       "    <tr>\n",
       "      <th>3</th>\n",
       "      <td>min</td>\n",
       "      <td>18</td>\n",
       "      <td>admin.</td>\n",
       "      <td>divorced</td>\n",
       "      <td>primary</td>\n",
       "      <td>no</td>\n",
       "      <td>-1</td>\n",
       "      <td>no</td>\n",
       "      <td>no</td>\n",
       "      <td>cellular</td>\n",
       "      <td>1</td>\n",
       "      <td>apr</td>\n",
       "      <td>0</td>\n",
       "      <td>1</td>\n",
       "      <td>-1</td>\n",
       "      <td>0</td>\n",
       "      <td>failure</td>\n",
       "      <td>no</td>\n",
       "    </tr>\n",
       "    <tr>\n",
       "      <th>4</th>\n",
       "      <td>max</td>\n",
       "      <td>95</td>\n",
       "      <td>unknown</td>\n",
       "      <td>single</td>\n",
       "      <td>unknown</td>\n",
       "      <td>yes</td>\n",
       "      <td>9997</td>\n",
       "      <td>yes</td>\n",
       "      <td>yes</td>\n",
       "      <td>unknown</td>\n",
       "      <td>9</td>\n",
       "      <td>sep</td>\n",
       "      <td>999</td>\n",
       "      <td>9</td>\n",
       "      <td>99</td>\n",
       "      <td>9</td>\n",
       "      <td>unknown</td>\n",
       "      <td>yes</td>\n",
       "    </tr>\n",
       "  </tbody>\n",
       "</table>\n",
       "</div>"
      ],
      "text/plain": [
       "  summary                 age      job   marital education default  \\\n",
       "0   count               45211    45211     45211     45211   45211   \n",
       "1    mean   40.93621021432837     None      None      None    None   \n",
       "2  stddev  10.618762040975401     None      None      None    None   \n",
       "3     min                  18   admin.  divorced   primary      no   \n",
       "4     max                  95  unknown    single   unknown     yes   \n",
       "\n",
       "              balance housing   loan   contact                day  month  \\\n",
       "0               45211   45211  45211     45211              45211  45211   \n",
       "1  1362.2720576850766    None   None      None  15.80641879188693   None   \n",
       "2  3044.7658291685243    None   None      None  8.322476153044589   None   \n",
       "3                  -1      no     no  cellular                  1    apr   \n",
       "4                9997     yes    yes   unknown                  9    sep   \n",
       "\n",
       "            duration            campaign               pdays  \\\n",
       "0              45211               45211               45211   \n",
       "1  258.1630797814691   2.763840658246887   40.19782796222158   \n",
       "2  257.5278122651712  3.0980208832791813  100.12874599059818   \n",
       "3                  0                   1                  -1   \n",
       "4                999                   9                  99   \n",
       "\n",
       "             previous poutcome      y  \n",
       "0               45211    45211  45211  \n",
       "1  0.5803233726305546     None   None  \n",
       "2  2.3034410449312164     None   None  \n",
       "3                   0  failure     no  \n",
       "4                   9  unknown    yes  "
      ]
     },
     "execution_count": 18,
     "metadata": {},
     "output_type": "execute_result"
    }
   ],
   "source": [
    "df.describe().toPandas()"
   ]
  },
  {
   "cell_type": "code",
   "execution_count": 19,
   "id": "8f0f4dbb",
   "metadata": {},
   "outputs": [],
   "source": [
    "target_variable_name = 'y'"
   ]
  },
  {
   "cell_type": "code",
   "execution_count": 20,
   "id": "75092bec",
   "metadata": {},
   "outputs": [
    {
     "name": "stdout",
     "output_type": "stream",
     "text": [
      "+---+-----+\n",
      "|  y|count|\n",
      "+---+-----+\n",
      "| no|39922|\n",
      "|yes| 5289|\n",
      "+---+-----+\n",
      "\n"
     ]
    }
   ],
   "source": [
    "df.groupby(df[target_variable_name]).count().show()"
   ]
  },
  {
   "cell_type": "code",
   "execution_count": 21,
   "id": "2ddfbcf0",
   "metadata": {},
   "outputs": [
    {
     "name": "stdout",
     "output_type": "stream",
     "text": [
      "+---+------------------+------------------+\n",
      "|  y|      avg(balance)|          avg(age)|\n",
      "+---+------------------+------------------+\n",
      "| no|1303.7149691899203| 40.83898602274435|\n",
      "|yes|1804.2679145396105|41.670069956513515|\n",
      "+---+------------------+------------------+\n",
      "\n"
     ]
    }
   ],
   "source": [
    "df.groupby(df[target_variable_name]).agg({'balance': 'avg', 'age': 'avg'}).show()"
   ]
  },
  {
   "cell_type": "markdown",
   "id": "87021236",
   "metadata": {},
   "source": [
    "# Cardinality check all columns"
   ]
  },
  {
   "cell_type": "code",
   "execution_count": 240,
   "id": "9ba1c976",
   "metadata": {},
   "outputs": [],
   "source": [
    "def cardinality_calculation(df, cut_off=1):\n",
    "    cardinality = df.select(*[approxCountDistinct(c).alias(c) for c in\n",
    "    df.columns])\n",
    "    final_cardinality_df = cardinality.toPandas().transpose()\n",
    "    final_cardinality_df.reset_index(inplace=True)\n",
    "    final_cardinality_df.rename(columns={0:'Cardinality'}, inplace=True)\n",
    "    vars_selected = final_cardinality_df[final_cardinality_df['Cardinality'] <= cut_off]['index']\n",
    "    return final_cardinality_df, vars_selected\n"
   ]
  },
  {
   "cell_type": "code",
   "execution_count": 6,
   "id": "a7e24a28",
   "metadata": {},
   "outputs": [
    {
     "name": "stderr",
     "output_type": "stream",
     "text": [
      "/data/nazmul/anaconda3/lib/python3.8/site-packages/pyspark/sql/functions.py:3796: FutureWarning: Deprecated in 2.1, use approx_count_distinct instead.\n",
      "  warnings.warn(\"Deprecated in 2.1, use approx_count_distinct instead.\", FutureWarning)\n"
     ]
    }
   ],
   "source": [
    "cardinality_df, cardinality_vars_selected = cardinality_calculation(df)"
   ]
  },
  {
   "cell_type": "code",
   "execution_count": 7,
   "id": "7ca7f1a0",
   "metadata": {},
   "outputs": [
    {
     "data": {
      "text/html": [
       "<div>\n",
       "<style scoped>\n",
       "    .dataframe tbody tr th:only-of-type {\n",
       "        vertical-align: middle;\n",
       "    }\n",
       "\n",
       "    .dataframe tbody tr th {\n",
       "        vertical-align: top;\n",
       "    }\n",
       "\n",
       "    .dataframe thead th {\n",
       "        text-align: right;\n",
       "    }\n",
       "</style>\n",
       "<table border=\"1\" class=\"dataframe\">\n",
       "  <thead>\n",
       "    <tr style=\"text-align: right;\">\n",
       "      <th></th>\n",
       "      <th>index</th>\n",
       "      <th>Cardinality</th>\n",
       "    </tr>\n",
       "  </thead>\n",
       "  <tbody>\n",
       "    <tr>\n",
       "      <th>0</th>\n",
       "      <td>age</td>\n",
       "      <td>80</td>\n",
       "    </tr>\n",
       "    <tr>\n",
       "      <th>1</th>\n",
       "      <td>job</td>\n",
       "      <td>11</td>\n",
       "    </tr>\n",
       "    <tr>\n",
       "      <th>2</th>\n",
       "      <td>marital</td>\n",
       "      <td>3</td>\n",
       "    </tr>\n",
       "    <tr>\n",
       "      <th>3</th>\n",
       "      <td>education</td>\n",
       "      <td>4</td>\n",
       "    </tr>\n",
       "    <tr>\n",
       "      <th>4</th>\n",
       "      <td>default</td>\n",
       "      <td>2</td>\n",
       "    </tr>\n",
       "    <tr>\n",
       "      <th>5</th>\n",
       "      <td>balance</td>\n",
       "      <td>6546</td>\n",
       "    </tr>\n",
       "    <tr>\n",
       "      <th>6</th>\n",
       "      <td>housing</td>\n",
       "      <td>2</td>\n",
       "    </tr>\n",
       "    <tr>\n",
       "      <th>7</th>\n",
       "      <td>loan</td>\n",
       "      <td>2</td>\n",
       "    </tr>\n",
       "    <tr>\n",
       "      <th>8</th>\n",
       "      <td>contact</td>\n",
       "      <td>3</td>\n",
       "    </tr>\n",
       "    <tr>\n",
       "      <th>9</th>\n",
       "      <td>day</td>\n",
       "      <td>32</td>\n",
       "    </tr>\n",
       "    <tr>\n",
       "      <th>10</th>\n",
       "      <td>month</td>\n",
       "      <td>12</td>\n",
       "    </tr>\n",
       "    <tr>\n",
       "      <th>11</th>\n",
       "      <td>duration</td>\n",
       "      <td>1508</td>\n",
       "    </tr>\n",
       "    <tr>\n",
       "      <th>12</th>\n",
       "      <td>campaign</td>\n",
       "      <td>48</td>\n",
       "    </tr>\n",
       "    <tr>\n",
       "      <th>13</th>\n",
       "      <td>pdays</td>\n",
       "      <td>553</td>\n",
       "    </tr>\n",
       "    <tr>\n",
       "      <th>14</th>\n",
       "      <td>previous</td>\n",
       "      <td>43</td>\n",
       "    </tr>\n",
       "    <tr>\n",
       "      <th>15</th>\n",
       "      <td>poutcome</td>\n",
       "      <td>4</td>\n",
       "    </tr>\n",
       "    <tr>\n",
       "      <th>16</th>\n",
       "      <td>y</td>\n",
       "      <td>2</td>\n",
       "    </tr>\n",
       "  </tbody>\n",
       "</table>\n",
       "</div>"
      ],
      "text/plain": [
       "        index  Cardinality\n",
       "0         age           80\n",
       "1         job           11\n",
       "2     marital            3\n",
       "3   education            4\n",
       "4     default            2\n",
       "5     balance         6546\n",
       "6     housing            2\n",
       "7        loan            2\n",
       "8     contact            3\n",
       "9         day           32\n",
       "10      month           12\n",
       "11   duration         1508\n",
       "12   campaign           48\n",
       "13      pdays          553\n",
       "14   previous           43\n",
       "15   poutcome            4\n",
       "16          y            2"
      ]
     },
     "execution_count": 7,
     "metadata": {},
     "output_type": "execute_result"
    }
   ],
   "source": [
    "cardinality_df"
   ]
  },
  {
   "cell_type": "code",
   "execution_count": 9,
   "id": "0e668e7e",
   "metadata": {},
   "outputs": [
    {
     "data": {
      "text/plain": [
       "Series([], Name: index, dtype: object)"
      ]
     },
     "execution_count": 9,
     "metadata": {},
     "output_type": "execute_result"
    }
   ],
   "source": [
    "cardinality_vars_selected"
   ]
  },
  {
   "cell_type": "markdown",
   "id": "457b5f82",
   "metadata": {},
   "source": [
    "# Missing value check all columns"
   ]
  },
  {
   "cell_type": "code",
   "execution_count": 8,
   "id": "bea3d1a2",
   "metadata": {},
   "outputs": [],
   "source": [
    "def missing_value_calculation(df, missing_value_percentage=0.8):\n",
    "    missing_counts = [\n",
    "        count(when(col(c).isNull() | isnan(c), c)).alias(c)\n",
    "        for c in df.columns\n",
    "    ]\n",
    "    missing = df.select(*missing_counts)\n",
    "    df_length = df.count()\n",
    "    final_missing = missing.toPandas().transpose()\n",
    "    final_missing.reset_index(inplace = True)\n",
    "    final_missing.rename(columns={0:'missing_count'}, inplace = True)\n",
    "    final_missing['missing_percentage'] = final_missing['missing_count']/df_length\n",
    "    \n",
    "    missing_var_selected = final_missing[final_missing['missing_percentage'] > missing_value_percentage]['index']\n",
    "    return final_missing, missing_var_selected"
   ]
  },
  {
   "cell_type": "code",
   "execution_count": 9,
   "id": "146f94a9",
   "metadata": {},
   "outputs": [],
   "source": [
    "missing_value, var_selected = missing_value_calculation(df)"
   ]
  },
  {
   "cell_type": "code",
   "execution_count": 10,
   "id": "6105158d",
   "metadata": {},
   "outputs": [
    {
     "data": {
      "text/html": [
       "<div>\n",
       "<style scoped>\n",
       "    .dataframe tbody tr th:only-of-type {\n",
       "        vertical-align: middle;\n",
       "    }\n",
       "\n",
       "    .dataframe tbody tr th {\n",
       "        vertical-align: top;\n",
       "    }\n",
       "\n",
       "    .dataframe thead th {\n",
       "        text-align: right;\n",
       "    }\n",
       "</style>\n",
       "<table border=\"1\" class=\"dataframe\">\n",
       "  <thead>\n",
       "    <tr style=\"text-align: right;\">\n",
       "      <th></th>\n",
       "      <th>index</th>\n",
       "      <th>missing_count</th>\n",
       "      <th>missing_percentage</th>\n",
       "    </tr>\n",
       "  </thead>\n",
       "  <tbody>\n",
       "    <tr>\n",
       "      <th>0</th>\n",
       "      <td>age</td>\n",
       "      <td>0</td>\n",
       "      <td>0.0</td>\n",
       "    </tr>\n",
       "    <tr>\n",
       "      <th>1</th>\n",
       "      <td>job</td>\n",
       "      <td>0</td>\n",
       "      <td>0.0</td>\n",
       "    </tr>\n",
       "    <tr>\n",
       "      <th>2</th>\n",
       "      <td>marital</td>\n",
       "      <td>0</td>\n",
       "      <td>0.0</td>\n",
       "    </tr>\n",
       "    <tr>\n",
       "      <th>3</th>\n",
       "      <td>education</td>\n",
       "      <td>0</td>\n",
       "      <td>0.0</td>\n",
       "    </tr>\n",
       "    <tr>\n",
       "      <th>4</th>\n",
       "      <td>default</td>\n",
       "      <td>0</td>\n",
       "      <td>0.0</td>\n",
       "    </tr>\n",
       "    <tr>\n",
       "      <th>5</th>\n",
       "      <td>balance</td>\n",
       "      <td>0</td>\n",
       "      <td>0.0</td>\n",
       "    </tr>\n",
       "    <tr>\n",
       "      <th>6</th>\n",
       "      <td>housing</td>\n",
       "      <td>0</td>\n",
       "      <td>0.0</td>\n",
       "    </tr>\n",
       "    <tr>\n",
       "      <th>7</th>\n",
       "      <td>loan</td>\n",
       "      <td>0</td>\n",
       "      <td>0.0</td>\n",
       "    </tr>\n",
       "    <tr>\n",
       "      <th>8</th>\n",
       "      <td>contact</td>\n",
       "      <td>0</td>\n",
       "      <td>0.0</td>\n",
       "    </tr>\n",
       "    <tr>\n",
       "      <th>9</th>\n",
       "      <td>day</td>\n",
       "      <td>0</td>\n",
       "      <td>0.0</td>\n",
       "    </tr>\n",
       "    <tr>\n",
       "      <th>10</th>\n",
       "      <td>month</td>\n",
       "      <td>0</td>\n",
       "      <td>0.0</td>\n",
       "    </tr>\n",
       "    <tr>\n",
       "      <th>11</th>\n",
       "      <td>duration</td>\n",
       "      <td>0</td>\n",
       "      <td>0.0</td>\n",
       "    </tr>\n",
       "    <tr>\n",
       "      <th>12</th>\n",
       "      <td>campaign</td>\n",
       "      <td>0</td>\n",
       "      <td>0.0</td>\n",
       "    </tr>\n",
       "    <tr>\n",
       "      <th>13</th>\n",
       "      <td>pdays</td>\n",
       "      <td>0</td>\n",
       "      <td>0.0</td>\n",
       "    </tr>\n",
       "    <tr>\n",
       "      <th>14</th>\n",
       "      <td>previous</td>\n",
       "      <td>0</td>\n",
       "      <td>0.0</td>\n",
       "    </tr>\n",
       "    <tr>\n",
       "      <th>15</th>\n",
       "      <td>poutcome</td>\n",
       "      <td>0</td>\n",
       "      <td>0.0</td>\n",
       "    </tr>\n",
       "    <tr>\n",
       "      <th>16</th>\n",
       "      <td>y</td>\n",
       "      <td>0</td>\n",
       "      <td>0.0</td>\n",
       "    </tr>\n",
       "  </tbody>\n",
       "</table>\n",
       "</div>"
      ],
      "text/plain": [
       "        index  missing_count  missing_percentage\n",
       "0         age              0                 0.0\n",
       "1         job              0                 0.0\n",
       "2     marital              0                 0.0\n",
       "3   education              0                 0.0\n",
       "4     default              0                 0.0\n",
       "5     balance              0                 0.0\n",
       "6     housing              0                 0.0\n",
       "7        loan              0                 0.0\n",
       "8     contact              0                 0.0\n",
       "9         day              0                 0.0\n",
       "10      month              0                 0.0\n",
       "11   duration              0                 0.0\n",
       "12   campaign              0                 0.0\n",
       "13      pdays              0                 0.0\n",
       "14   previous              0                 0.0\n",
       "15   poutcome              0                 0.0\n",
       "16          y              0                 0.0"
      ]
     },
     "execution_count": 10,
     "metadata": {},
     "output_type": "execute_result"
    }
   ],
   "source": [
    "missing_value"
   ]
  },
  {
   "cell_type": "code",
   "execution_count": 13,
   "id": "24dd47bd",
   "metadata": {},
   "outputs": [
    {
     "data": {
      "text/plain": [
       "Series([], Name: index, dtype: object)"
      ]
     },
     "execution_count": 13,
     "metadata": {},
     "output_type": "execute_result"
    }
   ],
   "source": [
    "var_selected"
   ]
  },
  {
   "cell_type": "markdown",
   "id": "25d496a7",
   "metadata": {},
   "source": [
    "# Feature data type selection"
   ]
  },
  {
   "cell_type": "code",
   "execution_count": 11,
   "id": "33b975ff",
   "metadata": {},
   "outputs": [],
   "source": [
    "def variable_type(df):\n",
    "    var_list = df.dtypes\n",
    "    char_list = []\n",
    "    num_list = []\n",
    "    \n",
    "    for var in var_list:\n",
    "        if var[1] != ('string'):\n",
    "            num_list.append(var[0])\n",
    "        else:\n",
    "            char_list.append(var[0])\n",
    "    return char_list, num_list\n",
    "            "
   ]
  },
  {
   "cell_type": "code",
   "execution_count": 12,
   "id": "88128917",
   "metadata": {},
   "outputs": [],
   "source": [
    "char_list, num_list = variable_type(df)"
   ]
  },
  {
   "cell_type": "code",
   "execution_count": 13,
   "id": "95d8e172",
   "metadata": {},
   "outputs": [
    {
     "data": {
      "text/plain": [
       "['age',\n",
       " 'job',\n",
       " 'marital',\n",
       " 'education',\n",
       " 'default',\n",
       " 'balance',\n",
       " 'housing',\n",
       " 'loan',\n",
       " 'contact',\n",
       " 'day',\n",
       " 'month',\n",
       " 'duration',\n",
       " 'campaign',\n",
       " 'pdays',\n",
       " 'previous',\n",
       " 'poutcome',\n",
       " 'y']"
      ]
     },
     "execution_count": 13,
     "metadata": {},
     "output_type": "execute_result"
    }
   ],
   "source": [
    "char_list"
   ]
  },
  {
   "cell_type": "code",
   "execution_count": 17,
   "id": "0c6cecb6",
   "metadata": {},
   "outputs": [
    {
     "data": {
      "text/plain": [
       "[]"
      ]
     },
     "execution_count": 17,
     "metadata": {},
     "output_type": "execute_result"
    }
   ],
   "source": [
    "num_list"
   ]
  },
  {
   "cell_type": "markdown",
   "id": "0e9b57a5",
   "metadata": {},
   "source": [
    "# StringIndexer for making numerical data"
   ]
  },
  {
   "cell_type": "code",
   "execution_count": 14,
   "id": "87673846",
   "metadata": {},
   "outputs": [],
   "source": [
    "def category_to_index(df, char_vars):\n",
    "    char_df = df.select(char_vars)\n",
    "    indexers = [StringIndexer(inputCol=c, outputCol=c+\"_index\",\n",
    "    handleInvalid=\"keep\") for c in char_df.columns]\n",
    "    pipeline = Pipeline(stages=indexers)\n",
    "    char_labels = pipeline.fit(char_df)\n",
    "    df = char_labels.transform(df)\n",
    "    return df, char_labels\n",
    "   "
   ]
  },
  {
   "cell_type": "code",
   "execution_count": 15,
   "id": "30c231ea",
   "metadata": {},
   "outputs": [],
   "source": [
    "df, char_labels = category_to_index(df, char_list)"
   ]
  },
  {
   "cell_type": "code",
   "execution_count": 16,
   "id": "fbf89b38",
   "metadata": {},
   "outputs": [
    {
     "data": {
      "text/plain": [
       "PipelineModel_6f214effb26c"
      ]
     },
     "execution_count": 16,
     "metadata": {},
     "output_type": "execute_result"
    }
   ],
   "source": [
    "char_labels"
   ]
  },
  {
   "cell_type": "code",
   "execution_count": 17,
   "id": "d2e0a8e4",
   "metadata": {},
   "outputs": [
    {
     "data": {
      "text/plain": [
       "[('age', 'string'),\n",
       " ('job', 'string'),\n",
       " ('marital', 'string'),\n",
       " ('education', 'string'),\n",
       " ('default', 'string'),\n",
       " ('balance', 'string'),\n",
       " ('housing', 'string'),\n",
       " ('loan', 'string'),\n",
       " ('contact', 'string'),\n",
       " ('day', 'string'),\n",
       " ('month', 'string'),\n",
       " ('duration', 'string'),\n",
       " ('campaign', 'string'),\n",
       " ('pdays', 'string'),\n",
       " ('previous', 'string'),\n",
       " ('poutcome', 'string'),\n",
       " ('y', 'string'),\n",
       " ('age_index', 'double'),\n",
       " ('job_index', 'double'),\n",
       " ('marital_index', 'double'),\n",
       " ('education_index', 'double'),\n",
       " ('default_index', 'double'),\n",
       " ('balance_index', 'double'),\n",
       " ('housing_index', 'double'),\n",
       " ('loan_index', 'double'),\n",
       " ('contact_index', 'double'),\n",
       " ('day_index', 'double'),\n",
       " ('month_index', 'double'),\n",
       " ('duration_index', 'double'),\n",
       " ('campaign_index', 'double'),\n",
       " ('pdays_index', 'double'),\n",
       " ('previous_index', 'double'),\n",
       " ('poutcome_index', 'double'),\n",
       " ('y_index', 'double')]"
      ]
     },
     "execution_count": 17,
     "metadata": {},
     "output_type": "execute_result"
    }
   ],
   "source": [
    "df.dtypes"
   ]
  },
  {
   "cell_type": "code",
   "execution_count": 18,
   "id": "c214bae6",
   "metadata": {},
   "outputs": [],
   "source": [
    "df = df.select([c for c in df.columns if c not in char_list])"
   ]
  },
  {
   "cell_type": "code",
   "execution_count": 19,
   "id": "c04ef6b2",
   "metadata": {},
   "outputs": [
    {
     "name": "stdout",
     "output_type": "stream",
     "text": [
      "+---------+---------+-------------+---------------+-------------+-------------+-------------+----------+-------------+---------+-----------+--------------+--------------+-----------+--------------+--------------+-------+\n",
      "|age_index|job_index|marital_index|education_index|default_index|balance_index|housing_index|loan_index|contact_index|day_index|month_index|duration_index|campaign_index|pdays_index|previous_index|poutcome_index|y_index|\n",
      "+---------+---------+-------------+---------------+-------------+-------------+-------------+----------+-------------+---------+-----------+--------------+--------------+-----------+--------------+--------------+-------+\n",
      "|     33.0|      1.0|          0.0|            1.0|          0.0|       2117.0|          0.0|       0.0|          1.0|      5.0|        0.0|         243.0|           0.0|        0.0|           0.0|           0.0|    0.0|\n",
      "|     17.0|      2.0|          1.0|            0.0|          0.0|         83.0|          0.0|       0.0|          1.0|      5.0|        0.0|          40.0|           0.0|        0.0|           0.0|           0.0|    0.0|\n",
      "|      2.0|      7.0|          0.0|            0.0|          0.0|          2.0|          0.0|       1.0|          1.0|      5.0|        0.0|          37.0|           0.0|        0.0|           0.0|           0.0|    0.0|\n",
      "|     18.0|      0.0|          0.0|            3.0|          0.0|       1359.0|          0.0|       0.0|          1.0|      5.0|        0.0|          15.0|           0.0|        0.0|           0.0|           0.0|    0.0|\n",
      "|      2.0|     11.0|          1.0|            3.0|          0.0|          1.0|          1.0|       0.0|          1.0|      5.0|        0.0|         123.0|           0.0|        0.0|           0.0|           0.0|    0.0|\n",
      "|      4.0|      1.0|          0.0|            1.0|          0.0|        204.0|          0.0|       0.0|          1.0|      5.0|        0.0|           8.0|           0.0|        0.0|           0.0|           0.0|    0.0|\n",
      "|     19.0|      1.0|          1.0|            1.0|          0.0|        540.0|          0.0|       1.0|          1.0|      5.0|        0.0|         146.0|           0.0|        0.0|           0.0|           0.0|    0.0|\n",
      "|     12.0|      7.0|          2.0|            1.0|          1.0|          2.0|          0.0|       0.0|          1.0|      5.0|        0.0|         401.0|           0.0|        0.0|           0.0|           0.0|    0.0|\n",
      "|     33.0|      5.0|          0.0|            2.0|          0.0|        154.0|          0.0|       0.0|          1.0|      5.0|        0.0|         138.0|           0.0|        0.0|           0.0|           0.0|    0.0|\n",
      "|     16.0|      2.0|          1.0|            0.0|          0.0|        784.0|          0.0|       0.0|          1.0|      5.0|        0.0|         130.0|           0.0|        0.0|           0.0|           0.0|    0.0|\n",
      "|     11.0|      3.0|          2.0|            0.0|          0.0|        410.0|          0.0|       0.0|          1.0|      5.0|        0.0|         156.0|           0.0|        0.0|           0.0|           0.0|    0.0|\n",
      "|     14.0|      3.0|          1.0|            0.0|          0.0|        361.0|          0.0|       0.0|          1.0|      5.0|        0.0|         112.0|           0.0|        0.0|           0.0|           0.0|    0.0|\n",
      "|     26.0|      2.0|          0.0|            0.0|          0.0|          6.0|          0.0|       0.0|          1.0|      5.0|        0.0|         481.0|           0.0|        0.0|           0.0|           0.0|    0.0|\n",
      "|     33.0|      2.0|          0.0|            3.0|          0.0|         50.0|          0.0|       0.0|          1.0|      5.0|        0.0|          30.0|           0.0|        0.0|           0.0|           0.0|    0.0|\n",
      "|     27.0|      4.0|          0.0|            0.0|          0.0|         91.0|          0.0|       0.0|          1.0|      5.0|        0.0|         111.0|           0.0|        0.0|           0.0|           0.0|    0.0|\n",
      "|     23.0|      5.0|          0.0|            2.0|          0.0|        311.0|          0.0|       0.0|          1.0|      5.0|        0.0|         342.0|           0.0|        0.0|           0.0|           0.0|    0.0|\n",
      "|     13.0|      3.0|          1.0|            3.0|          0.0|         20.0|          0.0|       0.0|          1.0|      5.0|        0.0|          31.0|           0.0|        0.0|           0.0|           0.0|    0.0|\n",
      "|     27.0|      0.0|          0.0|            2.0|          0.0|         85.0|          0.0|       0.0|          1.0|      5.0|        0.0|         279.0|           0.0|        0.0|           0.0|           0.0|    0.0|\n",
      "|     34.0|      5.0|          0.0|            2.0|          0.0|         86.0|          0.0|       0.0|          1.0|      5.0|        0.0|         152.0|           0.0|        0.0|           0.0|           0.0|    0.0|\n",
      "|      2.0|      4.0|          0.0|            0.0|          0.0|          0.0|          0.0|       0.0|          1.0|      5.0|        0.0|         148.0|           0.0|        0.0|           0.0|           0.0|    0.0|\n",
      "+---------+---------+-------------+---------------+-------------+-------------+-------------+----------+-------------+---------+-----------+--------------+--------------+-----------+--------------+--------------+-------+\n",
      "only showing top 20 rows\n",
      "\n"
     ]
    }
   ],
   "source": [
    "df.show()"
   ]
  },
  {
   "cell_type": "code",
   "execution_count": 20,
   "id": "ed4724b0",
   "metadata": {},
   "outputs": [],
   "source": [
    "def rename_columns(df, char_vars):\n",
    "    mapping = dict(zip([i + '_index' for i in char_vars], char_vars))\n",
    "    df = df.select([col(c).alias(mapping.get(c, c)) for c in df.columns])\n",
    "    return df"
   ]
  },
  {
   "cell_type": "code",
   "execution_count": 24,
   "id": "5f8c9a02",
   "metadata": {},
   "outputs": [],
   "source": [
    "df = rename_columns(df, char_list)"
   ]
  },
  {
   "cell_type": "code",
   "execution_count": 25,
   "id": "9ae82771",
   "metadata": {},
   "outputs": [
    {
     "name": "stdout",
     "output_type": "stream",
     "text": [
      "+----+----+-------+---------+-------+-------+-------+----+-------+---+-----+--------+--------+-----+--------+--------+---+\n",
      "| age| job|marital|education|default|balance|housing|loan|contact|day|month|duration|campaign|pdays|previous|poutcome|  y|\n",
      "+----+----+-------+---------+-------+-------+-------+----+-------+---+-----+--------+--------+-----+--------+--------+---+\n",
      "|33.0| 1.0|    0.0|      1.0|    0.0| 2117.0|    0.0| 0.0|    1.0|5.0|  0.0|   243.0|     0.0|  0.0|     0.0|     0.0|0.0|\n",
      "|17.0| 2.0|    1.0|      0.0|    0.0|   83.0|    0.0| 0.0|    1.0|5.0|  0.0|    40.0|     0.0|  0.0|     0.0|     0.0|0.0|\n",
      "| 2.0| 7.0|    0.0|      0.0|    0.0|    2.0|    0.0| 1.0|    1.0|5.0|  0.0|    37.0|     0.0|  0.0|     0.0|     0.0|0.0|\n",
      "|18.0| 0.0|    0.0|      3.0|    0.0| 1359.0|    0.0| 0.0|    1.0|5.0|  0.0|    15.0|     0.0|  0.0|     0.0|     0.0|0.0|\n",
      "| 2.0|11.0|    1.0|      3.0|    0.0|    1.0|    1.0| 0.0|    1.0|5.0|  0.0|   123.0|     0.0|  0.0|     0.0|     0.0|0.0|\n",
      "| 4.0| 1.0|    0.0|      1.0|    0.0|  204.0|    0.0| 0.0|    1.0|5.0|  0.0|     8.0|     0.0|  0.0|     0.0|     0.0|0.0|\n",
      "|19.0| 1.0|    1.0|      1.0|    0.0|  540.0|    0.0| 1.0|    1.0|5.0|  0.0|   146.0|     0.0|  0.0|     0.0|     0.0|0.0|\n",
      "|12.0| 7.0|    2.0|      1.0|    1.0|    2.0|    0.0| 0.0|    1.0|5.0|  0.0|   401.0|     0.0|  0.0|     0.0|     0.0|0.0|\n",
      "|33.0| 5.0|    0.0|      2.0|    0.0|  154.0|    0.0| 0.0|    1.0|5.0|  0.0|   138.0|     0.0|  0.0|     0.0|     0.0|0.0|\n",
      "|16.0| 2.0|    1.0|      0.0|    0.0|  784.0|    0.0| 0.0|    1.0|5.0|  0.0|   130.0|     0.0|  0.0|     0.0|     0.0|0.0|\n",
      "|11.0| 3.0|    2.0|      0.0|    0.0|  410.0|    0.0| 0.0|    1.0|5.0|  0.0|   156.0|     0.0|  0.0|     0.0|     0.0|0.0|\n",
      "|14.0| 3.0|    1.0|      0.0|    0.0|  361.0|    0.0| 0.0|    1.0|5.0|  0.0|   112.0|     0.0|  0.0|     0.0|     0.0|0.0|\n",
      "|26.0| 2.0|    0.0|      0.0|    0.0|    6.0|    0.0| 0.0|    1.0|5.0|  0.0|   481.0|     0.0|  0.0|     0.0|     0.0|0.0|\n",
      "|33.0| 2.0|    0.0|      3.0|    0.0|   50.0|    0.0| 0.0|    1.0|5.0|  0.0|    30.0|     0.0|  0.0|     0.0|     0.0|0.0|\n",
      "|27.0| 4.0|    0.0|      0.0|    0.0|   91.0|    0.0| 0.0|    1.0|5.0|  0.0|   111.0|     0.0|  0.0|     0.0|     0.0|0.0|\n",
      "|23.0| 5.0|    0.0|      2.0|    0.0|  311.0|    0.0| 0.0|    1.0|5.0|  0.0|   342.0|     0.0|  0.0|     0.0|     0.0|0.0|\n",
      "|13.0| 3.0|    1.0|      3.0|    0.0|   20.0|    0.0| 0.0|    1.0|5.0|  0.0|    31.0|     0.0|  0.0|     0.0|     0.0|0.0|\n",
      "|27.0| 0.0|    0.0|      2.0|    0.0|   85.0|    0.0| 0.0|    1.0|5.0|  0.0|   279.0|     0.0|  0.0|     0.0|     0.0|0.0|\n",
      "|34.0| 5.0|    0.0|      2.0|    0.0|   86.0|    0.0| 0.0|    1.0|5.0|  0.0|   152.0|     0.0|  0.0|     0.0|     0.0|0.0|\n",
      "| 2.0| 4.0|    0.0|      0.0|    0.0|    0.0|    0.0| 0.0|    1.0|5.0|  0.0|   148.0|     0.0|  0.0|     0.0|     0.0|0.0|\n",
      "+----+----+-------+---------+-------+-------+-------+----+-------+---+-----+--------+--------+-----+--------+--------+---+\n",
      "only showing top 20 rows\n",
      "\n"
     ]
    }
   ],
   "source": [
    "df.show()"
   ]
  },
  {
   "cell_type": "code",
   "execution_count": 23,
   "id": "1ded1823",
   "metadata": {},
   "outputs": [],
   "source": [
    "from pyspark.ml.feature import VectorAssembler\n",
    "def assemble_vectors(df, features_list, target_variable_name):\n",
    "    stages = []\n",
    "    assembler = VectorAssembler(inputCols=features_list,\n",
    "    outputCol='features')\n",
    "    stages = [assembler]\n",
    "    selectedCols = [target_variable_name, 'features'] + features_list\n",
    "    pipeline = Pipeline(stages=stages)\n",
    "    assembleModel = pipeline.fit(df)\n",
    "    df = assembleModel.transform(df).select(selectedCols)\n",
    "    return df"
   ]
  },
  {
   "cell_type": "code",
   "execution_count": 26,
   "id": "3191b44e",
   "metadata": {},
   "outputs": [],
   "source": [
    "target_variable_name = 'y'\n",
    "features_list = df.columns\n",
    "features_list.remove(target_variable_name)\n",
    "#df = assemble_vectors(df, features_list, target_variable_name)"
   ]
  },
  {
   "cell_type": "code",
   "execution_count": 28,
   "id": "d3baff71",
   "metadata": {},
   "outputs": [
    {
     "name": "stdout",
     "output_type": "stream",
     "text": [
      "+----+----+-------+---------+-------+-------+-------+----+-------+---+-----+--------+--------+-----+--------+--------+---+\n",
      "| age| job|marital|education|default|balance|housing|loan|contact|day|month|duration|campaign|pdays|previous|poutcome|  y|\n",
      "+----+----+-------+---------+-------+-------+-------+----+-------+---+-----+--------+--------+-----+--------+--------+---+\n",
      "|33.0| 1.0|    0.0|      1.0|    0.0| 2117.0|    0.0| 0.0|    1.0|5.0|  0.0|   243.0|     0.0|  0.0|     0.0|     0.0|0.0|\n",
      "|17.0| 2.0|    1.0|      0.0|    0.0|   83.0|    0.0| 0.0|    1.0|5.0|  0.0|    40.0|     0.0|  0.0|     0.0|     0.0|0.0|\n",
      "| 2.0| 7.0|    0.0|      0.0|    0.0|    2.0|    0.0| 1.0|    1.0|5.0|  0.0|    37.0|     0.0|  0.0|     0.0|     0.0|0.0|\n",
      "|18.0| 0.0|    0.0|      3.0|    0.0| 1359.0|    0.0| 0.0|    1.0|5.0|  0.0|    15.0|     0.0|  0.0|     0.0|     0.0|0.0|\n",
      "| 2.0|11.0|    1.0|      3.0|    0.0|    1.0|    1.0| 0.0|    1.0|5.0|  0.0|   123.0|     0.0|  0.0|     0.0|     0.0|0.0|\n",
      "| 4.0| 1.0|    0.0|      1.0|    0.0|  204.0|    0.0| 0.0|    1.0|5.0|  0.0|     8.0|     0.0|  0.0|     0.0|     0.0|0.0|\n",
      "|19.0| 1.0|    1.0|      1.0|    0.0|  540.0|    0.0| 1.0|    1.0|5.0|  0.0|   146.0|     0.0|  0.0|     0.0|     0.0|0.0|\n",
      "|12.0| 7.0|    2.0|      1.0|    1.0|    2.0|    0.0| 0.0|    1.0|5.0|  0.0|   401.0|     0.0|  0.0|     0.0|     0.0|0.0|\n",
      "|33.0| 5.0|    0.0|      2.0|    0.0|  154.0|    0.0| 0.0|    1.0|5.0|  0.0|   138.0|     0.0|  0.0|     0.0|     0.0|0.0|\n",
      "|16.0| 2.0|    1.0|      0.0|    0.0|  784.0|    0.0| 0.0|    1.0|5.0|  0.0|   130.0|     0.0|  0.0|     0.0|     0.0|0.0|\n",
      "|11.0| 3.0|    2.0|      0.0|    0.0|  410.0|    0.0| 0.0|    1.0|5.0|  0.0|   156.0|     0.0|  0.0|     0.0|     0.0|0.0|\n",
      "|14.0| 3.0|    1.0|      0.0|    0.0|  361.0|    0.0| 0.0|    1.0|5.0|  0.0|   112.0|     0.0|  0.0|     0.0|     0.0|0.0|\n",
      "|26.0| 2.0|    0.0|      0.0|    0.0|    6.0|    0.0| 0.0|    1.0|5.0|  0.0|   481.0|     0.0|  0.0|     0.0|     0.0|0.0|\n",
      "|33.0| 2.0|    0.0|      3.0|    0.0|   50.0|    0.0| 0.0|    1.0|5.0|  0.0|    30.0|     0.0|  0.0|     0.0|     0.0|0.0|\n",
      "|27.0| 4.0|    0.0|      0.0|    0.0|   91.0|    0.0| 0.0|    1.0|5.0|  0.0|   111.0|     0.0|  0.0|     0.0|     0.0|0.0|\n",
      "|23.0| 5.0|    0.0|      2.0|    0.0|  311.0|    0.0| 0.0|    1.0|5.0|  0.0|   342.0|     0.0|  0.0|     0.0|     0.0|0.0|\n",
      "|13.0| 3.0|    1.0|      3.0|    0.0|   20.0|    0.0| 0.0|    1.0|5.0|  0.0|    31.0|     0.0|  0.0|     0.0|     0.0|0.0|\n",
      "|27.0| 0.0|    0.0|      2.0|    0.0|   85.0|    0.0| 0.0|    1.0|5.0|  0.0|   279.0|     0.0|  0.0|     0.0|     0.0|0.0|\n",
      "|34.0| 5.0|    0.0|      2.0|    0.0|   86.0|    0.0| 0.0|    1.0|5.0|  0.0|   152.0|     0.0|  0.0|     0.0|     0.0|0.0|\n",
      "| 2.0| 4.0|    0.0|      0.0|    0.0|    0.0|    0.0| 0.0|    1.0|5.0|  0.0|   148.0|     0.0|  0.0|     0.0|     0.0|0.0|\n",
      "+----+----+-------+---------+-------+-------+-------+----+-------+---+-----+--------+--------+-----+--------+--------+---+\n",
      "only showing top 20 rows\n",
      "\n"
     ]
    }
   ],
   "source": [
    "df.show()"
   ]
  },
  {
   "cell_type": "markdown",
   "id": "f25c5357",
   "metadata": {},
   "source": [
    "# Vector Assemble and Feature Scaling"
   ]
  },
  {
   "cell_type": "code",
   "execution_count": 27,
   "id": "03ba67dd",
   "metadata": {},
   "outputs": [],
   "source": [
    "from pyspark.ml.feature import VectorAssembler, StandardScaler\n",
    "from pyspark.ml import Pipeline\n",
    "\n",
    "def assemble_vectors_with_scaling(df, features_list, target_variable_name):\n",
    "    stages = []\n",
    "    \n",
    "    assembler = VectorAssembler(inputCols=features_list, outputCol='raw_features')\n",
    "    stages.append(assembler)\n",
    "    \n",
    "    scaler = StandardScaler(inputCol='raw_features', outputCol='scaled_features', withMean=True, withStd=True)\n",
    "    stages.append(scaler)\n",
    "    \n",
    "    final_assembler = VectorAssembler(inputCols=['scaled_features'], outputCol='features')\n",
    "    stages.append(final_assembler)\n",
    "    \n",
    "    selectedCols = [target_variable_name, 'features'] + features_list\n",
    "    \n",
    "    pipeline = Pipeline(stages=stages)\n",
    "    \n",
    "    pipelineModel = pipeline.fit(df)\n",
    "    \n",
    "    df_transformed = pipelineModel.transform(df).select(selectedCols)\n",
    "    \n",
    "    return df_transformed\n",
    "\n",
    "scaled_df = assemble_vectors_with_scaling(df, features_list, target_variable_name)\n"
   ]
  },
  {
   "cell_type": "code",
   "execution_count": 28,
   "id": "f7dcd3be",
   "metadata": {},
   "outputs": [
    {
     "name": "stdout",
     "output_type": "stream",
     "text": [
      "+---+--------------------+----+----+-------+---------+-------+-------+-------+----+-------+---+-----+--------+--------+-----+--------+--------+\n",
      "|  y|            features| age| job|marital|education|default|balance|housing|loan|contact|day|month|duration|campaign|pdays|previous|poutcome|\n",
      "+---+--------------------+----+----+-------+---------+-------+-------+-------+----+-------+---+-----+--------+--------+-----+--------+--------+\n",
      "|0.0|[1.48681013473743...|33.0| 1.0|    0.0|      1.0|    0.0| 2117.0|    0.0| 0.0|    1.0|5.0|  0.0|   243.0|     0.0|  0.0|     0.0|     0.0|\n",
      "|0.0|[0.14449397633147...|17.0| 2.0|    1.0|      0.0|    0.0|   83.0|    0.0| 0.0|    1.0|5.0|  0.0|    40.0|     0.0|  0.0|     0.0|     0.0|\n",
      "|0.0|[-1.1139274221741...| 2.0| 7.0|    0.0|      0.0|    0.0|    2.0|    0.0| 1.0|    1.0|5.0|  0.0|    37.0|     0.0|  0.0|     0.0|     0.0|\n",
      "|0.0|[0.22838873623184...|18.0| 0.0|    0.0|      3.0|    0.0| 1359.0|    0.0| 0.0|    1.0|5.0|  0.0|    15.0|     0.0|  0.0|     0.0|     0.0|\n",
      "|0.0|[-1.1139274221741...| 2.0|11.0|    1.0|      3.0|    0.0|    1.0|    1.0| 0.0|    1.0|5.0|  0.0|   123.0|     0.0|  0.0|     0.0|     0.0|\n",
      "|0.0|[-0.9461379023733...| 4.0| 1.0|    0.0|      1.0|    0.0|  204.0|    0.0| 0.0|    1.0|5.0|  0.0|     8.0|     0.0|  0.0|     0.0|     0.0|\n",
      "|0.0|[0.31228349613222...|19.0| 1.0|    1.0|      1.0|    0.0|  540.0|    0.0| 1.0|    1.0|5.0|  0.0|   146.0|     0.0|  0.0|     0.0|     0.0|\n",
      "|0.0|[-0.2749798231703...|12.0| 7.0|    2.0|      1.0|    1.0|    2.0|    0.0| 0.0|    1.0|5.0|  0.0|   401.0|     0.0|  0.0|     0.0|     0.0|\n",
      "|0.0|[1.48681013473743...|33.0| 5.0|    0.0|      2.0|    0.0|  154.0|    0.0| 0.0|    1.0|5.0|  0.0|   138.0|     0.0|  0.0|     0.0|     0.0|\n",
      "|0.0|[0.06059921643110...|16.0| 2.0|    1.0|      0.0|    0.0|  784.0|    0.0| 0.0|    1.0|5.0|  0.0|   130.0|     0.0|  0.0|     0.0|     0.0|\n",
      "|0.0|[-0.3588745830707...|11.0| 3.0|    2.0|      0.0|    0.0|  410.0|    0.0| 0.0|    1.0|5.0|  0.0|   156.0|     0.0|  0.0|     0.0|     0.0|\n",
      "|0.0|[-0.1071903033696...|14.0| 3.0|    1.0|      0.0|    0.0|  361.0|    0.0| 0.0|    1.0|5.0|  0.0|   112.0|     0.0|  0.0|     0.0|     0.0|\n",
      "|0.0|[0.89954681543482...|26.0| 2.0|    0.0|      0.0|    0.0|    6.0|    0.0| 0.0|    1.0|5.0|  0.0|   481.0|     0.0|  0.0|     0.0|     0.0|\n",
      "|0.0|[1.48681013473743...|33.0| 2.0|    0.0|      3.0|    0.0|   50.0|    0.0| 0.0|    1.0|5.0|  0.0|    30.0|     0.0|  0.0|     0.0|     0.0|\n",
      "|0.0|[0.98344157533520...|27.0| 4.0|    0.0|      0.0|    0.0|   91.0|    0.0| 0.0|    1.0|5.0|  0.0|   111.0|     0.0|  0.0|     0.0|     0.0|\n",
      "|0.0|[0.64786253573371...|23.0| 5.0|    0.0|      2.0|    0.0|  311.0|    0.0| 0.0|    1.0|5.0|  0.0|   342.0|     0.0|  0.0|     0.0|     0.0|\n",
      "|0.0|[-0.1910850632700...|13.0| 3.0|    1.0|      3.0|    0.0|   20.0|    0.0| 0.0|    1.0|5.0|  0.0|    31.0|     0.0|  0.0|     0.0|     0.0|\n",
      "|0.0|[0.98344157533520...|27.0| 0.0|    0.0|      2.0|    0.0|   85.0|    0.0| 0.0|    1.0|5.0|  0.0|   279.0|     0.0|  0.0|     0.0|     0.0|\n",
      "|0.0|[1.57070489463780...|34.0| 5.0|    0.0|      2.0|    0.0|   86.0|    0.0| 0.0|    1.0|5.0|  0.0|   152.0|     0.0|  0.0|     0.0|     0.0|\n",
      "|0.0|[-1.1139274221741...| 2.0| 4.0|    0.0|      0.0|    0.0|    0.0|    0.0| 0.0|    1.0|5.0|  0.0|   148.0|     0.0|  0.0|     0.0|     0.0|\n",
      "+---+--------------------+----+----+-------+---------+-------+-------+-------+----+-------+---+-----+--------+--------+-----+--------+--------+\n",
      "only showing top 20 rows\n",
      "\n"
     ]
    }
   ],
   "source": [
    "scaled_df.show()"
   ]
  },
  {
   "cell_type": "markdown",
   "id": "27f3504d",
   "metadata": {},
   "source": [
    "# PCA analysis"
   ]
  },
  {
   "cell_type": "code",
   "execution_count": 29,
   "id": "33b0d87a",
   "metadata": {},
   "outputs": [],
   "source": [
    "from pyspark.ml.feature import PCA\n",
    "\n",
    "def apply_pca(df, num_components, input_col, output_col):\n",
    "    pca = PCA(k=num_components, inputCol=input_col, outputCol=output_col)\n",
    "    pca_model = pca.fit(df)\n",
    "    df_transformed = pca_model.transform(df)\n",
    "    return df_transformed,pca_model\n",
    "\n",
    "\n",
    "num_components = 3  \n",
    "\n",
    "pca_df, pca_model = apply_pca(scaled_df, num_components, input_col='features', output_col='pca_features')\n"
   ]
  },
  {
   "cell_type": "code",
   "execution_count": 30,
   "id": "069ec716",
   "metadata": {},
   "outputs": [
    {
     "data": {
      "text/plain": [
       "array([[-0.04286982,  0.4920219 , -0.22323716],\n",
       "       [-0.05501484,  0.42718685,  0.13297609],\n",
       "       [-0.03421558,  0.01230686,  0.37440105],\n",
       "       [ 0.00985805,  0.22433871, -0.47416155],\n",
       "       [ 0.04938132, -0.03086653,  0.19678395],\n",
       "       [ 0.01182259,  0.13971403, -0.20758647],\n",
       "       [-0.06360871,  0.54533245,  0.22486653],\n",
       "       [ 0.05037557, -0.14712573,  0.2533394 ],\n",
       "       [ 0.21729808,  0.03198733, -0.50783508],\n",
       "       [-0.0089565 ,  0.11904237, -0.02275009],\n",
       "       [-0.30944881,  0.35030048,  0.20832696],\n",
       "       [-0.02026495,  0.01312412, -0.03288015],\n",
       "       [ 0.12058269, -0.02093828, -0.13193068],\n",
       "       [-0.51115744, -0.13046894, -0.10932632],\n",
       "       [-0.50070019, -0.14995977, -0.16246118],\n",
       "       [-0.56099456, -0.08610978, -0.11076326]])"
      ]
     },
     "execution_count": 30,
     "metadata": {},
     "output_type": "execute_result"
    }
   ],
   "source": [
    "pca_model.pc.toArray()"
   ]
  },
  {
   "cell_type": "code",
   "execution_count": 31,
   "id": "c0ac2820",
   "metadata": {},
   "outputs": [
    {
     "name": "stdout",
     "output_type": "stream",
     "text": [
      "+--------------------+\n",
      "|        pca_features|\n",
      "+--------------------+\n",
      "|[1.03298083637395...|\n",
      "|[1.01098145946516...|\n",
      "|[1.14817948430724...|\n",
      "|[1.14376130201403...|\n",
      "|[0.77788055768080...|\n",
      "|[1.14269816862764...|\n",
      "|[1.16763995641598...|\n",
      "|[1.22812958903618...|\n",
      "|[0.95601469051056...|\n",
      "|[1.01226693880603...|\n",
      "|[0.95527743707480...|\n",
      "|[0.99718870386952...|\n",
      "|[0.99042819455073...|\n",
      "|[1.0375340554644,...|\n",
      "|[0.97725625447924...|\n",
      "|[0.97604404820348...|\n",
      "|[1.03915951837652...|\n",
      "|[1.06835713458695...|\n",
      "|[0.95073596726132...|\n",
      "|[1.06338711293655...|\n",
      "+--------------------+\n",
      "only showing top 20 rows\n",
      "\n"
     ]
    }
   ],
   "source": [
    "pca_df.select('pca_features').show()"
   ]
  },
  {
   "cell_type": "code",
   "execution_count": 32,
   "id": "991dffd5",
   "metadata": {},
   "outputs": [
    {
     "data": {
      "text/plain": [
       "DenseVector([0.1425, 0.0984, 0.0734])"
      ]
     },
     "execution_count": 32,
     "metadata": {},
     "output_type": "execute_result"
    }
   ],
   "source": [
    "pca_model.explainedVariance"
   ]
  },
  {
   "cell_type": "code",
   "execution_count": 33,
   "id": "9d7d1501",
   "metadata": {},
   "outputs": [
    {
     "data": {
      "text/plain": [
       "[<matplotlib.lines.Line2D at 0x7fdf3802df10>]"
      ]
     },
     "execution_count": 33,
     "metadata": {},
     "output_type": "execute_result"
    },
    {
     "data": {
      "image/png": "[encoded data removed]",
      "text/plain": [
       "<Figure size 432x288 with 1 Axes>"
      ]
     },
     "metadata": {
      "needs_background": "light"
     },
     "output_type": "display_data"
    }
   ],
   "source": [
    "import matplotlib.pyplot as plt\n",
    "import numpy as np\n",
    "x = []\n",
    "for i in range(0, len(pca_model.explainedVariance)):\n",
    "    x.append('PC' + str(i + 1))\n",
    "y = np.array(pca_model.explainedVariance)\n",
    "z = np.cumsum(pca_model.explainedVariance)\n",
    "plt.xlabel('Principal Components')\n",
    "plt.ylabel('Variance Explained')\n",
    "plt.bar(x, y, color = 'darkblue')\n",
    "plt.plot(x, z, color = 'darkblue')"
   ]
  },
  {
   "cell_type": "code",
   "execution_count": 34,
   "id": "57219587",
   "metadata": {},
   "outputs": [
    {
     "data": {
      "text/plain": [
       "['PC1', 'PC2', 'PC3']"
      ]
     },
     "execution_count": 34,
     "metadata": {},
     "output_type": "execute_result"
    }
   ],
   "source": [
    "x"
   ]
  },
  {
   "cell_type": "markdown",
   "id": "2a6820e0",
   "metadata": {},
   "source": [
    "# Model Based Feature Selection (Random Forest)"
   ]
  },
  {
   "cell_type": "code",
   "execution_count": 37,
   "id": "88b13666",
   "metadata": {},
   "outputs": [],
   "source": [
    "rf = RandomForestClassifier(featuresCol = 'features', labelCol = 'y', maxBins = 8000)\n",
    "rf_model = rf.fit(scaled_df)"
   ]
  },
  {
   "cell_type": "code",
   "execution_count": 38,
   "id": "9be8d2ed",
   "metadata": {},
   "outputs": [
    {
     "data": {
      "text/plain": [
       "SparseVector(16, {0: 0.0525, 1: 0.0016, 2: 0.0019, 3: 0.0008, 5: 0.0028, 6: 0.0455, 7: 0.0034, 8: 0.0203, 9: 0.0081, 10: 0.1505, 11: 0.3988, 12: 0.0029, 13: 0.0466, 14: 0.0316, 15: 0.2328})"
      ]
     },
     "execution_count": 38,
     "metadata": {},
     "output_type": "execute_result"
    }
   ],
   "source": [
    "rf_model.featureImportances"
   ]
  },
  {
   "cell_type": "code",
   "execution_count": 194,
   "id": "6205537f",
   "metadata": {},
   "outputs": [
    {
     "data": {
      "image/png": "[encoded data removed]",
      "text/plain": [
       "<Figure size 576x288 with 1 Axes>"
      ]
     },
     "metadata": {
      "needs_background": "light"
     },
     "output_type": "display_data"
    }
   ],
   "source": [
    "from pyspark.ml.evaluation import BinaryClassificationEvaluator\n",
    "import matplotlib.pyplot as plt\n",
    "import seaborn as sns\n",
    "import numpy as np\n",
    "\n",
    "feature_importances = rf_model.featureImportances\n",
    "\n",
    "feature_importance_dict = {idx: value for idx, value in zip(feature_importances.indices, feature_importances.values)}\n",
    "\n",
    "sorted_feature_importance = dict(sorted(feature_importance_dict.items(), key=lambda x: x[1], reverse=True))\n",
    "\n",
    "feature_names = scaled_df.columns\n",
    "\n",
    "plt.figure(figsize=(8, 4))\n",
    "sns.barplot(x=list(sorted_feature_importance.values()), y=[feature_names[i] for i in sorted_feature_importance.keys()])\n",
    "plt.xlabel('Importance Score')\n",
    "plt.ylabel('Features')\n",
    "plt.title('Feature Importance of All Features')\n",
    "plt.show()\n"
   ]
  },
  {
   "cell_type": "code",
   "execution_count": 195,
   "id": "9c0a8eea",
   "metadata": {},
   "outputs": [
    {
     "name": "stdout",
     "output_type": "stream",
     "text": [
      "+---+--------+--------+-----+----+-----+-------+--------+-------+---+----+--------+-------+-------+----+---------+\n",
      "|  y|duration|poutcome|month| age|pdays|housing|previous|contact|day|loan|campaign|balance|marital| job|education|\n",
      "+---+--------+--------+-----+----+-----+-------+--------+-------+---+----+--------+-------+-------+----+---------+\n",
      "|0.0|   243.0|     0.0|  0.0|33.0|  0.0|    0.0|     0.0|    1.0|5.0| 0.0|     0.0| 2117.0|    0.0| 1.0|      1.0|\n",
      "|0.0|    40.0|     0.0|  0.0|17.0|  0.0|    0.0|     0.0|    1.0|5.0| 0.0|     0.0|   83.0|    1.0| 2.0|      0.0|\n",
      "|0.0|    37.0|     0.0|  0.0| 2.0|  0.0|    0.0|     0.0|    1.0|5.0| 1.0|     0.0|    2.0|    0.0| 7.0|      0.0|\n",
      "|0.0|    15.0|     0.0|  0.0|18.0|  0.0|    0.0|     0.0|    1.0|5.0| 0.0|     0.0| 1359.0|    0.0| 0.0|      3.0|\n",
      "|0.0|   123.0|     0.0|  0.0| 2.0|  0.0|    1.0|     0.0|    1.0|5.0| 0.0|     0.0|    1.0|    1.0|11.0|      3.0|\n",
      "|0.0|     8.0|     0.0|  0.0| 4.0|  0.0|    0.0|     0.0|    1.0|5.0| 0.0|     0.0|  204.0|    0.0| 1.0|      1.0|\n",
      "|0.0|   146.0|     0.0|  0.0|19.0|  0.0|    0.0|     0.0|    1.0|5.0| 1.0|     0.0|  540.0|    1.0| 1.0|      1.0|\n",
      "|0.0|   401.0|     0.0|  0.0|12.0|  0.0|    0.0|     0.0|    1.0|5.0| 0.0|     0.0|    2.0|    2.0| 7.0|      1.0|\n",
      "|0.0|   138.0|     0.0|  0.0|33.0|  0.0|    0.0|     0.0|    1.0|5.0| 0.0|     0.0|  154.0|    0.0| 5.0|      2.0|\n",
      "|0.0|   130.0|     0.0|  0.0|16.0|  0.0|    0.0|     0.0|    1.0|5.0| 0.0|     0.0|  784.0|    1.0| 2.0|      0.0|\n",
      "|0.0|   156.0|     0.0|  0.0|11.0|  0.0|    0.0|     0.0|    1.0|5.0| 0.0|     0.0|  410.0|    2.0| 3.0|      0.0|\n",
      "|0.0|   112.0|     0.0|  0.0|14.0|  0.0|    0.0|     0.0|    1.0|5.0| 0.0|     0.0|  361.0|    1.0| 3.0|      0.0|\n",
      "|0.0|   481.0|     0.0|  0.0|26.0|  0.0|    0.0|     0.0|    1.0|5.0| 0.0|     0.0|    6.0|    0.0| 2.0|      0.0|\n",
      "|0.0|    30.0|     0.0|  0.0|33.0|  0.0|    0.0|     0.0|    1.0|5.0| 0.0|     0.0|   50.0|    0.0| 2.0|      3.0|\n",
      "|0.0|   111.0|     0.0|  0.0|27.0|  0.0|    0.0|     0.0|    1.0|5.0| 0.0|     0.0|   91.0|    0.0| 4.0|      0.0|\n",
      "|0.0|   342.0|     0.0|  0.0|23.0|  0.0|    0.0|     0.0|    1.0|5.0| 0.0|     0.0|  311.0|    0.0| 5.0|      2.0|\n",
      "|0.0|    31.0|     0.0|  0.0|13.0|  0.0|    0.0|     0.0|    1.0|5.0| 0.0|     0.0|   20.0|    1.0| 3.0|      3.0|\n",
      "|0.0|   279.0|     0.0|  0.0|27.0|  0.0|    0.0|     0.0|    1.0|5.0| 0.0|     0.0|   85.0|    0.0| 0.0|      2.0|\n",
      "|0.0|   152.0|     0.0|  0.0|34.0|  0.0|    0.0|     0.0|    1.0|5.0| 0.0|     0.0|   86.0|    0.0| 5.0|      2.0|\n",
      "|0.0|   148.0|     0.0|  0.0| 2.0|  0.0|    0.0|     0.0|    1.0|5.0| 0.0|     0.0|    0.0|    0.0| 4.0|      0.0|\n",
      "+---+--------+--------+-----+----+-----+-------+--------+-------+---+----+--------+-------+-------+----+---------+\n",
      "only showing top 20 rows\n",
      "\n"
     ]
    }
   ],
   "source": [
    "from pyspark.sql.functions import col\n",
    "feature_names.remove('y')\n",
    "feature_names.remove('features')\n",
    "threshold = 0.0\n",
    "selected_features = [feature_names[i] for i, importance in sorted_feature_importance.items() if importance >= threshold]\n",
    "selected_cols =  ['y'] + selected_features\n",
    "\n",
    "selected_df = scaled_df.select(selected_cols)\n",
    "selected_df.show()\n"
   ]
  },
  {
   "cell_type": "markdown",
   "id": "95d9f427",
   "metadata": {},
   "source": [
    "# Train-Test spliting"
   ]
  },
  {
   "cell_type": "code",
   "execution_count": 79,
   "id": "61e5c984",
   "metadata": {},
   "outputs": [],
   "source": [
    "def train_test_split(df):\n",
    "    feature_columns = df.columns[1:]  # Assuming the first column is 'y'\n",
    "\n",
    "    # Assemble the features into a single vector column\n",
    "    assembler = VectorAssembler(inputCols=feature_columns, outputCol='features')\n",
    "    assembled_df = assembler.transform(df)\n",
    "\n",
    "    # Split the data into training and testing sets (70% train, 30% test)\n",
    "    train_data, test_data = assembled_df.randomSplit([0.7, 0.3], seed=123)\n",
    "    \n",
    "    return train_data, test_data"
   ]
  },
  {
   "cell_type": "code",
   "execution_count": 197,
   "id": "4aaf44e8",
   "metadata": {},
   "outputs": [
    {
     "data": {
      "text/plain": [
       "['duration',\n",
       " 'poutcome',\n",
       " 'month',\n",
       " 'age',\n",
       " 'pdays',\n",
       " 'housing',\n",
       " 'previous',\n",
       " 'contact',\n",
       " 'day',\n",
       " 'loan',\n",
       " 'campaign',\n",
       " 'balance',\n",
       " 'marital',\n",
       " 'job',\n",
       " 'education']"
      ]
     },
     "execution_count": 197,
     "metadata": {},
     "output_type": "execute_result"
    }
   ],
   "source": [
    "feature_columns"
   ]
  },
  {
   "cell_type": "markdown",
   "id": "8d36664c",
   "metadata": {},
   "source": [
    "# Logistic Regression"
   ]
  },
  {
   "cell_type": "code",
   "execution_count": 73,
   "id": "6900106f",
   "metadata": {},
   "outputs": [],
   "source": [
    "lr = LogisticRegression(featuresCol='features', labelCol='y')\n",
    "\n",
    "lr_model4 = lr.fit(train_data)\n",
    "\n",
    "# Make predictions on the test data\n",
    "prediction_lr4 = lr_model4.transform(test_data)"
   ]
  },
  {
   "cell_type": "markdown",
   "id": "01d74c28",
   "metadata": {},
   "source": [
    "# Decision Tree Classifier"
   ]
  },
  {
   "cell_type": "code",
   "execution_count": 116,
   "id": "f900183f",
   "metadata": {},
   "outputs": [],
   "source": [
    "dt = DecisionTreeClassifier(featuresCol = 'features', labelCol = 'y', maxBins = 8000)\n",
    "dt_model1 = dt.fit(train_data)\n",
    "prediction_dt1 = dt_model1.transform(test_data)"
   ]
  },
  {
   "cell_type": "markdown",
   "id": "6c050321",
   "metadata": {},
   "source": [
    "# Random Forest Classifier"
   ]
  },
  {
   "cell_type": "code",
   "execution_count": 165,
   "id": "b12a0131",
   "metadata": {},
   "outputs": [],
   "source": [
    "rf = RandomForestClassifier(featuresCol = 'features', labelCol = 'y', maxBins = 8000)\n",
    "rf_model3 = rf.fit(train_data)\n",
    "prediction_rf3 = rf_model3.transform(test_data)"
   ]
  },
  {
   "cell_type": "markdown",
   "id": "d1595d2b",
   "metadata": {},
   "source": [
    "# Gradient Boosting Classifier"
   ]
  },
  {
   "cell_type": "code",
   "execution_count": 184,
   "id": "33886479",
   "metadata": {},
   "outputs": [],
   "source": [
    "gb = GBTClassifier(featuresCol = 'features', labelCol = 'y', maxBins = 8000)\n",
    "gb_model = gb.fit(train_data)\n",
    "prediction_gb4 = gb_model.transform(test_data)"
   ]
  },
  {
   "cell_type": "markdown",
   "id": "bc516a95",
   "metadata": {},
   "source": [
    "# Function for ROC calculation"
   ]
  },
  {
   "cell_type": "code",
   "execution_count": 239,
   "id": "77bb9d14",
   "metadata": {},
   "outputs": [],
   "source": [
    "def roc_calculation(model_prediction):\n",
    "    extract_prob_udf = udf(lambda raw_pred: float(raw_pred[1]), DoubleType())\n",
    "\n",
    "    model_prediction = model_prediction.withColumn('probability', extract_prob_udf('rawPrediction'))\n",
    "\n",
    "    model_predictions_pd = model_prediction.select('y', 'probability').toPandas()\n",
    "    \n",
    "    fpr, tpr, thresholds = roc_curve(model_predictions_pd['y'], model_predictions_pd['probability'])\n",
    "    roc_auc = auc(fpr, tpr)\n",
    "    return fpr, tpr, roc_auc"
   ]
  },
  {
   "cell_type": "markdown",
   "id": "6dd04ec8",
   "metadata": {},
   "source": [
    "# ROC curve for Logistic Regression"
   ]
  },
  {
   "cell_type": "code",
   "execution_count": 191,
   "id": "1a62ef05",
   "metadata": {},
   "outputs": [
    {
     "data": {
      "image/png": "[encoded data removed]",
      "text/plain": [
       "<Figure size 432x288 with 1 Axes>"
      ]
     },
     "metadata": {
      "needs_background": "light"
     },
     "output_type": "display_data"
    }
   ],
   "source": [
    "fpr_lr1, tpr_lr1, roc_auc_lr1 = roc_calculation(prediction_lr1) \n",
    "fpr_lr2, tpr_lr2, roc_auc_lr2 = roc_calculation(prediction_lr2) \n",
    "fpr_lr3, tpr_lr3, roc_auc_lr3 = roc_calculation(prediction_lr3)\n",
    "fpr_lr4, tpr_lr4, roc_auc_lr4 = roc_calculation(prediction_lr4) \n",
    "\n",
    "plt.figure(figsize=(6, 4))\n",
    "plt.plot(fpr_lr1, tpr_lr1, color='purple', lw=2, label=f'ROC curve (FI : 0.0) (area = {roc_auc_lr1:.2f})')\n",
    "plt.plot(fpr_lr2, tpr_lr2, color='magenta', lw=2, label=f'ROC curve (FI : 0.1) (area = {roc_auc_lr2:.2f})')\n",
    "plt.plot(fpr_lr3, tpr_lr3, color='blue', lw=2, label=f'ROC curve (FI : 0.2) (area = {roc_auc_lr3:.2f})')\n",
    "plt.plot(fpr_lr4, tpr_lr4, color='green', lw=2, label=f'ROC curve (FI : 0.3) (area = {roc_auc_lr4:.2f})')\n",
    "plt.plot([0, 1], [0, 1], color='black', lw=2, linestyle='--')\n",
    "plt.xlabel('False Positive Rate')\n",
    "plt.ylabel('True Positive Rate')\n",
    "plt.title('ROC Curve (Logistic Regression)')\n",
    "plt.legend(loc='lower right')\n",
    "plt.show()"
   ]
  },
  {
   "cell_type": "markdown",
   "id": "94f969d3",
   "metadata": {},
   "source": [
    "# ROC curve for Decision Tree"
   ]
  },
  {
   "cell_type": "code",
   "execution_count": 190,
   "id": "cbdbdc33",
   "metadata": {},
   "outputs": [
    {
     "data": {
      "image/png": "[encoded data removed]",
      "text/plain": [
       "<Figure size 432x288 with 1 Axes>"
      ]
     },
     "metadata": {
      "needs_background": "light"
     },
     "output_type": "display_data"
    }
   ],
   "source": [
    "fpr_dt1, tpr_dt1, roc_auc_dt1 = roc_calculation(prediction_dt1) \n",
    "fpr_dt2, tpr_dt2, roc_auc_dt2 = roc_calculation(prediction_dt2) \n",
    "fpr_dt3, tpr_dt3, roc_auc_dt3 = roc_calculation(prediction_dt3)\n",
    "fpr_dt4, tpr_dt4, roc_auc_dt4 = roc_calculation(prediction_dt4)\n",
    "\n",
    "plt.figure(figsize=(6, 4))\n",
    "plt.plot(fpr_dt1, tpr_dt1, color='purple', lw=2, label=f'ROC curve (FI : 0.0) (area = {roc_auc_dt1:.2f})')\n",
    "plt.plot(fpr_dt2, tpr_dt2, color='magenta', lw=2, label=f'ROC curve (FI : 0.1) (area = {roc_auc_dt2:.2f})')\n",
    "plt.plot(fpr_dt3, tpr_dt3, color='blue', lw=2, label=f'ROC curve (FI : 0.2) (area = {roc_auc_dt3:.2f})')\n",
    "plt.plot(fpr_dt4, tpr_dt4, color='green', lw=2, label=f'ROC curve (FI : 0.3) (area = {roc_auc_dt4:.2f})')\n",
    "plt.plot([0, 1], [0, 1], color='black', lw=2, linestyle='--')\n",
    "plt.xlabel('False Positive Rate')\n",
    "plt.ylabel('True Positive Rate')\n",
    "plt.title('ROC Curve (Decision Tree)')\n",
    "plt.legend(loc='lower right')\n",
    "plt.show()"
   ]
  },
  {
   "cell_type": "markdown",
   "id": "9eb96b2b",
   "metadata": {},
   "source": [
    "# ROC curve for Random Forest"
   ]
  },
  {
   "cell_type": "code",
   "execution_count": 189,
   "id": "c2d4983e",
   "metadata": {},
   "outputs": [
    {
     "data": {
      "image/png": "[encoded data removed]",
      "text/plain": [
       "<Figure size 432x288 with 1 Axes>"
      ]
     },
     "metadata": {
      "needs_background": "light"
     },
     "output_type": "display_data"
    }
   ],
   "source": [
    "fpr_rf1, tpr_rf1, roc_auc_rf1 = roc_calculation(prediction_rf1) \n",
    "fpr_rf2, tpr_rf2, roc_auc_rf2 = roc_calculation(prediction_rf2) \n",
    "fpr_rf3, tpr_rf3, roc_auc_rf3 = roc_calculation(prediction_rf3)\n",
    "fpr_rf4, tpr_rf4, roc_auc_rf4 = roc_calculation(prediction_rf4) \n",
    "\n",
    "plt.figure(figsize=(6, 4))\n",
    "plt.plot(fpr_rf1, tpr_rf1, color='purple', lw=2, label=f'ROC curve (FI : 0.0) (area = {roc_auc_rf1:.2f})')\n",
    "plt.plot(fpr_rf2, tpr_rf2, color='magenta', lw=2, label=f'ROC curve (FI : 0.1) (area = {roc_auc_rf2:.2f})')\n",
    "plt.plot(fpr_rf3, tpr_rf3, color='blue', lw=2, label=f'ROC curve (FI : 0.2) (area = {roc_auc_rf3:.2f})')\n",
    "plt.plot(fpr_rf4, tpr_rf4, color='green', lw=2, label=f'ROC curve (FI : 0.3) (area = {roc_auc_rf4:.2f})')\n",
    "plt.plot([0, 1], [0, 1], color='black', lw=2, linestyle='--')\n",
    "plt.xlabel('False Positive Rate')\n",
    "plt.ylabel('True Positive Rate')\n",
    "plt.title('ROC Curve (Random Forest)')\n",
    "plt.legend(loc='lower right')\n",
    "plt.show()"
   ]
  },
  {
   "cell_type": "markdown",
   "id": "923a28d7",
   "metadata": {},
   "source": [
    "# ROC curve for Gradient Boosting"
   ]
  },
  {
   "cell_type": "code",
   "execution_count": 188,
   "id": "0920a04b",
   "metadata": {},
   "outputs": [
    {
     "data": {
      "image/png": "[encoded data removed]",
      "text/plain": [
       "<Figure size 432x288 with 1 Axes>"
      ]
     },
     "metadata": {
      "needs_background": "light"
     },
     "output_type": "display_data"
    }
   ],
   "source": [
    "fpr_gb1, tpr_gb1, roc_auc_gb1 = roc_calculation(prediction_gb1) \n",
    "fpr_gb2, tpr_gb2, roc_auc_gb2 = roc_calculation(prediction_gb2) \n",
    "fpr_gb3, tpr_gb3, roc_auc_gb3 = roc_calculation(prediction_gb3)\n",
    "fpr_gb4, tpr_gb4, roc_auc_gb4 = roc_calculation(prediction_gb4) \n",
    "\n",
    "plt.figure(figsize=(6, 4))\n",
    "plt.plot(fpr_gb1, tpr_gb1, color='purple', lw=2, label=f'ROC curve (FI : 0.0) (area = {roc_auc_gb1:.2f})')\n",
    "plt.plot(fpr_gb2, tpr_gb2, color='magenta', lw=2, label=f'ROC curve (FI : 0.1) (area = {roc_auc_gb2:.2f})')\n",
    "plt.plot(fpr_gb3, tpr_gb3, color='blue', lw=2, label=f'ROC curve (FI : 0.2) (area = {roc_auc_gb3:.2f})')\n",
    "plt.plot(fpr_gb4, tpr_gb4, color='green', lw=2, label=f'ROC curve (FI : 0.3) (area = {roc_auc_gb4:.2f})')\n",
    "plt.plot([0, 1], [0, 1], color='black', lw=2, linestyle='--')\n",
    "plt.xlabel('False Positive Rate')\n",
    "plt.ylabel('True Positive Rate')\n",
    "plt.title('ROC Curve (Gradient Boosting)')\n",
    "plt.legend(loc='lower right')\n",
    "plt.show()"
   ]
  },
  {
   "cell_type": "code",
   "execution_count": 109,
   "id": "de0001a1",
   "metadata": {},
   "outputs": [],
   "source": [
    "def confusion_mat(model_prediction):\n",
    "    model_predictions_pd = model_prediction.select('y', 'prediction').toPandas()\n",
    "    _cm = confusion_matrix(model_predictions_pd['y'], model_predictions_pd['prediction'])\n",
    "    return _cm  "
   ]
  },
  {
   "cell_type": "markdown",
   "id": "40dd2829",
   "metadata": {},
   "source": [
    "# Confusion Matrix for Logistic Regression"
   ]
  },
  {
   "cell_type": "code",
   "execution_count": 159,
   "id": "5e3e6fc1",
   "metadata": {},
   "outputs": [
    {
     "data": {
      "image/png": "[encoded data removed]",
      "text/plain": [
       "<Figure size 576x432 with 4 Axes>"
      ]
     },
     "metadata": {
      "needs_background": "light"
     },
     "output_type": "display_data"
    }
   ],
   "source": [
    "cm_lr1 = confusion_mat(prediction_lr1)\n",
    "cm_lr2 = confusion_mat(prediction_lr2)\n",
    "cm_lr3 = confusion_mat(prediction_lr3)\n",
    "cm_lr4 = confusion_mat(prediction_lr4)\n",
    "\n",
    "fig, axes = plt.subplots(2, 2, figsize=(8, 6))\n",
    "\n",
    "sns.heatmap(cm_lr1, annot=True, fmt='d', cmap='Accent_r', xticklabels=['0', '1'], yticklabels=['0', '1'], ax=axes[0, 0], cbar = False)\n",
    "axes[0, 0].set_xlabel('Predicted')\n",
    "axes[0, 0].set_ylabel('Actual')\n",
    "axes[0, 0].set_title('Feature Importance (IF) = 0.0', fontsize = 8)\n",
    "\n",
    "sns.heatmap(cm_lr2, annot=True, fmt='d', cmap='Accent_r', xticklabels=['0', '1'], yticklabels=['0', '1'], ax=axes[0, 1], cbar = False)\n",
    "axes[0, 1].set_xlabel('Predicted')\n",
    "axes[0, 1].set_ylabel('Actual')\n",
    "axes[0, 1].set_title('Feature Importance (IF) = 0.1', fontsize = 8)\n",
    "\n",
    "sns.heatmap(cm_lr3, annot=True, fmt='d', cmap='Accent_r', xticklabels=['0', '1'], yticklabels=['0', '1'], ax=axes[1, 0], cbar = False)\n",
    "axes[1, 0].set_xlabel('Predicted')\n",
    "axes[1, 0].set_ylabel('Actual')\n",
    "axes[1, 0].set_title('Feature Importance (IF) = 0.2', fontsize = 8)\n",
    "\n",
    "sns.heatmap(cm_lr4, annot=True, fmt='d', cmap='Accent_r', xticklabels=['0', '1'], yticklabels=['0', '1'], ax=axes[1, 1], cbar = False)\n",
    "axes[1, 1].set_xlabel('Predicted')\n",
    "axes[1, 1].set_ylabel('Actual')\n",
    "axes[1, 1].set_title('Feature Importance (IF) = 0.3', fontsize = 8)\n",
    "\n",
    "plt.tight_layout()\n",
    "plt.show()\n"
   ]
  },
  {
   "cell_type": "markdown",
   "id": "a22f5f06",
   "metadata": {},
   "source": [
    "# Confusion Matrix for Decision Tree"
   ]
  },
  {
   "cell_type": "code",
   "execution_count": 156,
   "id": "3b071449",
   "metadata": {},
   "outputs": [
    {
     "data": {
      "image/png": "[encoded data removed]",
      "text/plain": [
       "<Figure size 576x432 with 4 Axes>"
      ]
     },
     "metadata": {
      "needs_background": "light"
     },
     "output_type": "display_data"
    }
   ],
   "source": [
    "cm_dt1 = confusion_mat(prediction_dt1)\n",
    "cm_dt2 = confusion_mat(prediction_dt2)\n",
    "cm_dt3 = confusion_mat(prediction_dt3)\n",
    "cm_dt4 = confusion_mat(prediction_dt4)\n",
    "\n",
    "fig, axes = plt.subplots(2, 2, figsize=(8, 6))\n",
    "\n",
    "sns.heatmap(cm_dt1, annot=True, fmt='d', cmap='Accent_r', xticklabels=['0', '1'], yticklabels=['0', '1'], ax=axes[0, 0], cbar = False)\n",
    "axes[0, 0].set_xlabel('Predicted')\n",
    "axes[0, 0].set_ylabel('Actual')\n",
    "axes[0, 0].set_title('Feature Importance (IF) = 0.0', fontsize = 8)\n",
    "\n",
    "sns.heatmap(cm_dt2, annot=True, fmt='d', cmap='Accent_r', xticklabels=['0', '1'], yticklabels=['0', '1'], ax=axes[0, 1], cbar = False)\n",
    "axes[0, 1].set_xlabel('Predicted')\n",
    "axes[0, 1].set_ylabel('Actual')\n",
    "axes[0, 1].set_title('Feature Importance (IF) = 0.1', fontsize = 8)\n",
    "\n",
    "sns.heatmap(cm_dt3, annot=True, fmt='d', cmap='Accent_r', xticklabels=['0', '1'], yticklabels=['0', '1'], ax=axes[1, 0], cbar = False)\n",
    "axes[1, 0].set_xlabel('Predicted')\n",
    "axes[1, 0].set_ylabel('Actual')\n",
    "axes[1, 0].set_title('Feature Importance (IF) = 0.2', fontsize = 8)\n",
    "\n",
    "sns.heatmap(cm_dt4, annot=True, fmt='d', cmap='Accent_r', xticklabels=['0', '1'], yticklabels=['0', '1'], ax=axes[1, 1], cbar = False)\n",
    "axes[1, 1].set_xlabel('Predicted')\n",
    "axes[1, 1].set_ylabel('Actual')\n",
    "axes[1, 1].set_title('Feature Importance (IF) = 0.3', fontsize = 8)\n",
    "\n",
    "plt.tight_layout()\n",
    "plt.show()\n"
   ]
  },
  {
   "cell_type": "markdown",
   "id": "7bea9886",
   "metadata": {},
   "source": [
    "# Confusion Matrix for Random Forest"
   ]
  },
  {
   "cell_type": "code",
   "execution_count": 157,
   "id": "f8917a75",
   "metadata": {},
   "outputs": [
    {
     "data": {
      "image/png": "[encoded data removed]",
      "text/plain": [
       "<Figure size 576x432 with 4 Axes>"
      ]
     },
     "metadata": {
      "needs_background": "light"
     },
     "output_type": "display_data"
    }
   ],
   "source": [
    "cm_rf1 = confusion_mat(prediction_rf1)\n",
    "cm_rf2 = confusion_mat(prediction_rf2)\n",
    "cm_rf3 = confusion_mat(prediction_rf3)\n",
    "cm_rf4 = confusion_mat(prediction_rf4)\n",
    "\n",
    "fig, axes = plt.subplots(2, 2, figsize=(8, 6))\n",
    "\n",
    "sns.heatmap(cm_rf1, annot=True, fmt='d', cmap='Accent_r', xticklabels=['0', '1'], yticklabels=['0', '1'], ax=axes[0, 0], cbar = False)\n",
    "axes[0, 0].set_xlabel('Predicted')\n",
    "axes[0, 0].set_ylabel('Actual')\n",
    "axes[0, 0].set_title('Feature Importance (IF) = 0.0', fontsize = 8)\n",
    "\n",
    "sns.heatmap(cm_rf2, annot=True, fmt='d', cmap='Accent_r', xticklabels=['0', '1'], yticklabels=['0', '1'], ax=axes[0, 1], cbar = False)\n",
    "axes[0, 1].set_xlabel('Predicted')\n",
    "axes[0, 1].set_ylabel('Actual')\n",
    "axes[0, 1].set_title('Feature Importance (IF) = 0.1', fontsize = 8)\n",
    "\n",
    "sns.heatmap(cm_rf3, annot=True, fmt='d', cmap='Accent_r', xticklabels=['0', '1'], yticklabels=['0', '1'], ax=axes[1, 0], cbar = False)\n",
    "axes[1, 0].set_xlabel('Predicted')\n",
    "axes[1, 0].set_ylabel('Actual')\n",
    "axes[1, 0].set_title('Feature Importance (IF) = 0.2', fontsize = 8)\n",
    "\n",
    "sns.heatmap(cm_rf4, annot=True, fmt='d', cmap='Accent_r', xticklabels=['0', '1'], yticklabels=['0', '1'], ax=axes[1, 1], cbar = False)\n",
    "axes[1, 1].set_xlabel('Predicted')\n",
    "axes[1, 1].set_ylabel('Actual')\n",
    "axes[1, 1].set_title('Feature Importance (IF) = 0.3', fontsize = 8)\n",
    "\n",
    "plt.tight_layout()\n",
    "plt.show()\n"
   ]
  },
  {
   "cell_type": "markdown",
   "id": "4555e2fa",
   "metadata": {},
   "source": [
    "# Confusion Matrix for Gradient Boosting"
   ]
  },
  {
   "cell_type": "code",
   "execution_count": 192,
   "id": "8100cc9c",
   "metadata": {},
   "outputs": [
    {
     "data": {
      "image/png": "[encoded data removed]",
      "text/plain": [
       "<Figure size 576x432 with 4 Axes>"
      ]
     },
     "metadata": {
      "needs_background": "light"
     },
     "output_type": "display_data"
    }
   ],
   "source": [
    "cm_gb1 = confusion_mat(prediction_gb1)\n",
    "cm_gb2 = confusion_mat(prediction_gb2)\n",
    "cm_gb3 = confusion_mat(prediction_gb3)\n",
    "cm_gb4 = confusion_mat(prediction_gb4)\n",
    "\n",
    "fig, axes = plt.subplots(2, 2, figsize=(8, 6))\n",
    "\n",
    "sns.heatmap(cm_gb1, annot=True, fmt='d', cmap='Accent_r', xticklabels=['0', '1'], yticklabels=['0', '1'], ax=axes[0, 0], cbar = False)\n",
    "axes[0, 0].set_xlabel('Predicted')\n",
    "axes[0, 0].set_ylabel('Actual')\n",
    "axes[0, 0].set_title('Feature Importance (IF) = 0.0', fontsize = 8)\n",
    "\n",
    "sns.heatmap(cm_gb2, annot=True, fmt='d', cmap='Accent_r', xticklabels=['0', '1'], yticklabels=['0', '1'], ax=axes[0, 1], cbar = False)\n",
    "axes[0, 1].set_xlabel('Predicted')\n",
    "axes[0, 1].set_ylabel('Actual')\n",
    "axes[0, 1].set_title('Feature Importance (IF) = 0.1', fontsize = 8)\n",
    "\n",
    "sns.heatmap(cm_gb3, annot=True, fmt='d', cmap='Accent_r', xticklabels=['0', '1'], yticklabels=['0', '1'], ax=axes[1, 0], cbar = False)\n",
    "axes[1, 0].set_xlabel('Predicted')\n",
    "axes[1, 0].set_ylabel('Actual')\n",
    "axes[1, 0].set_title('Feature Importance (IF) = 0.2', fontsize = 8)\n",
    "\n",
    "sns.heatmap(cm_gb4, annot=True, fmt='d', cmap='Accent_r', xticklabels=['0', '1'], yticklabels=['0', '1'], ax=axes[1, 1], cbar = False)\n",
    "axes[1, 1].set_xlabel('Predicted')\n",
    "axes[1, 1].set_ylabel('Actual')\n",
    "axes[1, 1].set_title('Feature Importance (IF) = 0.3', fontsize = 8)\n",
    "\n",
    "plt.tight_layout()\n",
    "plt.show()\n"
   ]
  },
  {
   "cell_type": "markdown",
   "id": "d36c071e",
   "metadata": {},
   "source": [
    "# Model based feature selection (Decision Tree)"
   ]
  },
  {
   "cell_type": "code",
   "execution_count": 237,
   "id": "0e41425f",
   "metadata": {},
   "outputs": [
    {
     "data": {
      "text/plain": [
       "SparseVector(16, {0: 0.018, 2: 0.0008, 5: 0.0032, 6: 0.0067, 8: 0.0273, 10: 0.1219, 11: 0.5061, 13: 0.0104, 15: 0.3055})"
      ]
     },
     "execution_count": 237,
     "metadata": {},
     "output_type": "execute_result"
    }
   ],
   "source": [
    "dt = DecisionTreeClassifier(featuresCol = 'features', labelCol = 'y')\n",
    "dt_model = dt.fit(scaled_df)\n",
    "dt_model.featureImportances"
   ]
  },
  {
   "cell_type": "code",
   "execution_count": 238,
   "id": "20e7371c",
   "metadata": {},
   "outputs": [
    {
     "data": {
      "image/png": "[encoded data removed]",
      "text/plain": [
       "<Figure size 576x288 with 1 Axes>"
      ]
     },
     "metadata": {
      "needs_background": "light"
     },
     "output_type": "display_data"
    }
   ],
   "source": [
    "feature_importances_dt = dt_model.featureImportances\n",
    "\n",
    "feature_importance_dict = {idx: value for idx, value in zip(feature_importances_dt.indices, feature_importances_dt.values)}\n",
    "\n",
    "sorted_feature_importance = dict(sorted(feature_importance_dict.items(), key=lambda x: x[1], reverse=True))\n",
    "feature_names = scaled_df.columns\n",
    "\n",
    "plt.figure(figsize=(8, 4))\n",
    "sns.barplot(x=list(sorted_feature_importance.values()), y=[feature_names[i] for i in sorted_feature_importance.keys()])\n",
    "plt.xlabel('Importance Score')\n",
    "plt.ylabel('Features')\n",
    "plt.title('Feature Importance of All Features')\n",
    "plt.show()"
   ]
  },
  {
   "cell_type": "markdown",
   "id": "485d1046",
   "metadata": {},
   "source": [
    "# Model based feature selection (Logistic Regression)"
   ]
  },
  {
   "cell_type": "code",
   "execution_count": 35,
   "id": "1ee92bf8",
   "metadata": {},
   "outputs": [
    {
     "data": {
      "text/plain": [
       "DenseMatrix(3, 16, [0.0341, -0.0931, 0.0729, -0.0471, 0.0018, 0.0097, 0.1411, -0.1402, ..., 0.4772, -0.5389, -0.3852, -1.8582, 0.6767, 0.1641, 0.1293, -0.4044], 1)"
      ]
     },
     "execution_count": 35,
     "metadata": {},
     "output_type": "execute_result"
    }
   ],
   "source": [
    "lr = LogisticRegression(featuresCol = 'features', labelCol = 'y')\n",
    "lr_model = lr.fit(scaled_df)\n",
    "lr_model.coefficientMatrix"
   ]
  },
  {
   "cell_type": "code",
   "execution_count": 37,
   "id": "bf4659b2",
   "metadata": {},
   "outputs": [
    {
     "data": {
      "image/png": "[encoded data removed]",
      "text/plain": [
       "<Figure size 720x432 with 1 Axes>"
      ]
     },
     "metadata": {
      "needs_background": "light"
     },
     "output_type": "display_data"
    }
   ],
   "source": [
    "import matplotlib.pyplot as plt\n",
    "\n",
    "# Coefficients from lr_model.coefficientMatrix\n",
    "coefficients = [0.0341, -0.0931, 0.0729, -0.0471, 0.0018, 0.0097, 0.1411, -0.1402,\n",
    "                0.2546, -0.4772, -0.5389, -0.3852, -1.8582, 0.6767, 0.1641, 0.1293, -0.4044]\n",
    "\n",
    "# Feature names (assuming you have access to them)\n",
    "feature_names = scaled_df.columns\n",
    "feature_names.remove('y')\n",
    "\n",
    "# Create a bar plot for coefficients\n",
    "plt.figure(figsize=(10, 6))\n",
    "plt.barh(range(len(coefficients)), coefficients, align='center')\n",
    "plt.xlabel('Coefficient Value')\n",
    "plt.yticks(range(len(coefficients)), feature_names)\n",
    "plt.title('Logistic Regression Coefficients')\n",
    "plt.show()\n"
   ]
  },
  {
   "cell_type": "code",
   "execution_count": 229,
   "id": "16cc46fe",
   "metadata": {},
   "outputs": [
    {
     "name": "stdout",
     "output_type": "stream",
     "text": [
      "+--------+---------+\n",
      "|     key|abs_value|\n",
      "+--------+---------+\n",
      "|duration|   1.8582|\n",
      "|campaign|   0.6767|\n",
      "|     day|   0.5389|\n",
      "| contact|   0.4772|\n",
      "|poutcome|   0.4044|\n",
      "|   month|   0.3852|\n",
      "|    loan|   0.2546|\n",
      "|   pdays|   0.1641|\n",
      "| balance|   0.1411|\n",
      "| housing|   0.1402|\n",
      "|previous|   0.1293|\n",
      "|     age|   0.0931|\n",
      "|     job|   0.0729|\n",
      "| marital|   0.0471|\n",
      "|features|   0.0341|\n",
      "| default|   0.0097|\n",
      "+--------+---------+\n",
      "\n",
      "Top features based on absolute coefficients: None\n"
     ]
    }
   ],
   "source": [
    "df = spark.createDataFrame(list(feature_coefficients.items()), ['key', 'value'])\n",
    "\n",
    "# Calculate absolute values using PySpark's abs function\n",
    "abs_df = df.withColumn('abs_value', pyspark_abs(df['value']))\n",
    "\n",
    "sorted_abs_df_desc = abs_df.orderBy('abs_value', ascending=False)\n",
    "\n",
    "\n",
    "top_n = 16  # Change this value to select a different number of top features\n",
    "selected_features = sorted_abs_df_desc.limit(top_n).select('key','abs_value')\n",
    "\n",
    "#top_feature_names = [row['key'] for row in selected_features.collect()]\n",
    "\n",
    "# Print the top feature names\n",
    "#print(\"Top feature names based on absolute coefficients:\", top_feature_names)\n",
    "\n",
    "# Print the top features\n",
    "print(\"Top features based on absolute coefficients:\", selected_features.show())"
   ]
  },
  {
   "cell_type": "code",
   "execution_count": 230,
   "id": "f5b54e3a",
   "metadata": {},
   "outputs": [
    {
     "name": "stdout",
     "output_type": "stream",
     "text": [
      "Key names based on absolute coefficients: ['duration', 'campaign', 'day', 'contact', 'poutcome', 'month', 'loan', 'pdays', 'balance', 'housing', 'previous', 'age', 'job', 'marital', 'features', 'default']\n"
     ]
    }
   ],
   "source": [
    "selected_keys = selected_features.select('key')\n",
    "\n",
    "# Collect the selected key names into a list\n",
    "key_names = [row['key'] for row in selected_keys.collect()]\n",
    "\n",
    "# Print the list of key names\n",
    "print(\"Key names based on absolute coefficients:\", key_names)"
   ]
  },
  {
   "cell_type": "code",
   "execution_count": 231,
   "id": "7d526d1f",
   "metadata": {},
   "outputs": [
    {
     "name": "stdout",
     "output_type": "stream",
     "text": [
      "+---+----+----+-------+-------+-------+-------+----+-------+---+-----+--------+--------+-----+--------+--------+\n",
      "|  y| age| job|marital|default|balance|housing|loan|contact|day|month|duration|campaign|pdays|previous|poutcome|\n",
      "+---+----+----+-------+-------+-------+-------+----+-------+---+-----+--------+--------+-----+--------+--------+\n",
      "|0.0|33.0| 1.0|    0.0|    0.0| 2117.0|    0.0| 0.0|    1.0|5.0|  0.0|   243.0|     0.0|  0.0|     0.0|     0.0|\n",
      "|0.0|17.0| 2.0|    1.0|    0.0|   83.0|    0.0| 0.0|    1.0|5.0|  0.0|    40.0|     0.0|  0.0|     0.0|     0.0|\n",
      "|0.0| 2.0| 7.0|    0.0|    0.0|    2.0|    0.0| 1.0|    1.0|5.0|  0.0|    37.0|     0.0|  0.0|     0.0|     0.0|\n",
      "|0.0|18.0| 0.0|    0.0|    0.0| 1359.0|    0.0| 0.0|    1.0|5.0|  0.0|    15.0|     0.0|  0.0|     0.0|     0.0|\n",
      "|0.0| 2.0|11.0|    1.0|    0.0|    1.0|    1.0| 0.0|    1.0|5.0|  0.0|   123.0|     0.0|  0.0|     0.0|     0.0|\n",
      "|0.0| 4.0| 1.0|    0.0|    0.0|  204.0|    0.0| 0.0|    1.0|5.0|  0.0|     8.0|     0.0|  0.0|     0.0|     0.0|\n",
      "|0.0|19.0| 1.0|    1.0|    0.0|  540.0|    0.0| 1.0|    1.0|5.0|  0.0|   146.0|     0.0|  0.0|     0.0|     0.0|\n",
      "|0.0|12.0| 7.0|    2.0|    1.0|    2.0|    0.0| 0.0|    1.0|5.0|  0.0|   401.0|     0.0|  0.0|     0.0|     0.0|\n",
      "|0.0|33.0| 5.0|    0.0|    0.0|  154.0|    0.0| 0.0|    1.0|5.0|  0.0|   138.0|     0.0|  0.0|     0.0|     0.0|\n",
      "|0.0|16.0| 2.0|    1.0|    0.0|  784.0|    0.0| 0.0|    1.0|5.0|  0.0|   130.0|     0.0|  0.0|     0.0|     0.0|\n",
      "|0.0|11.0| 3.0|    2.0|    0.0|  410.0|    0.0| 0.0|    1.0|5.0|  0.0|   156.0|     0.0|  0.0|     0.0|     0.0|\n",
      "|0.0|14.0| 3.0|    1.0|    0.0|  361.0|    0.0| 0.0|    1.0|5.0|  0.0|   112.0|     0.0|  0.0|     0.0|     0.0|\n",
      "|0.0|26.0| 2.0|    0.0|    0.0|    6.0|    0.0| 0.0|    1.0|5.0|  0.0|   481.0|     0.0|  0.0|     0.0|     0.0|\n",
      "|0.0|33.0| 2.0|    0.0|    0.0|   50.0|    0.0| 0.0|    1.0|5.0|  0.0|    30.0|     0.0|  0.0|     0.0|     0.0|\n",
      "|0.0|27.0| 4.0|    0.0|    0.0|   91.0|    0.0| 0.0|    1.0|5.0|  0.0|   111.0|     0.0|  0.0|     0.0|     0.0|\n",
      "|0.0|23.0| 5.0|    0.0|    0.0|  311.0|    0.0| 0.0|    1.0|5.0|  0.0|   342.0|     0.0|  0.0|     0.0|     0.0|\n",
      "|0.0|13.0| 3.0|    1.0|    0.0|   20.0|    0.0| 0.0|    1.0|5.0|  0.0|    31.0|     0.0|  0.0|     0.0|     0.0|\n",
      "|0.0|27.0| 0.0|    0.0|    0.0|   85.0|    0.0| 0.0|    1.0|5.0|  0.0|   279.0|     0.0|  0.0|     0.0|     0.0|\n",
      "|0.0|34.0| 5.0|    0.0|    0.0|   86.0|    0.0| 0.0|    1.0|5.0|  0.0|   152.0|     0.0|  0.0|     0.0|     0.0|\n",
      "|0.0| 2.0| 4.0|    0.0|    0.0|    0.0|    0.0| 0.0|    1.0|5.0|  0.0|   148.0|     0.0|  0.0|     0.0|     0.0|\n",
      "+---+----+----+-------+-------+-------+-------+----+-------+---+-----+--------+--------+-----+--------+--------+\n",
      "only showing top 20 rows\n",
      "\n"
     ]
    }
   ],
   "source": [
    "feature_names = scaled_df.columns\n",
    "feature_names.remove('y')\n",
    "feature_names.remove('features')\n",
    "selected_features = [col for col in feature_names if col in key_names]\n",
    "\n",
    "# Add 'y' back to the selected columns\n",
    "selected_cols = ['y'] + selected_features\n",
    "\n",
    "# Select the desired columns from scaled_df\n",
    "selected_df = scaled_df.select(selected_cols)\n",
    "\n",
    "# Show the selected DataFrame\n",
    "selected_df.show()"
   ]
  },
  {
   "cell_type": "code",
   "execution_count": 232,
   "id": "a23285ec",
   "metadata": {},
   "outputs": [],
   "source": [
    "train_data, test_data = train_test_split(selected_df)"
   ]
  },
  {
   "cell_type": "markdown",
   "id": "0345b618",
   "metadata": {},
   "source": [
    "# Logistic Regression (LR  feature selection)"
   ]
  },
  {
   "cell_type": "code",
   "execution_count": 118,
   "id": "d3e4b7f5",
   "metadata": {},
   "outputs": [],
   "source": [
    "lr = LogisticRegression(featuresCol='features', labelCol='y')\n",
    "\n",
    "# Train the model\n",
    "lr_model = lr.fit(train_data)\n",
    "\n",
    "# Make predictions on the test data\n",
    "prediction_lr6 = lr_model.transform(test_data)"
   ]
  },
  {
   "cell_type": "markdown",
   "id": "1ed878a3",
   "metadata": {},
   "source": [
    "# ROC curve for Logistic Regression"
   ]
  },
  {
   "cell_type": "code",
   "execution_count": 203,
   "id": "ddcf9bea",
   "metadata": {},
   "outputs": [
    {
     "data": {
      "image/png": "[encoded data removed]",
      "text/plain": [
       "<Figure size 432x288 with 1 Axes>"
      ]
     },
     "metadata": {
      "needs_background": "light"
     },
     "output_type": "display_data"
    }
   ],
   "source": [
    "fpr_lr1, tpr_lr1, roc_auc_lr1 = roc_calculation(prediction_lr1) \n",
    "fpr_lr2, tpr_lr2, roc_auc_lr2 = roc_calculation(prediction_lr2) \n",
    "fpr_lr3, tpr_lr3, roc_auc_lr3 = roc_calculation(prediction_lr3)\n",
    "fpr_lr4, tpr_lr4, roc_auc_lr4 = roc_calculation(prediction_lr4)\n",
    "fpr_lr5, tpr_lr5, roc_auc_lr5 = roc_calculation(prediction_lr5)\n",
    "fpr_lr6, tpr_lr6, roc_auc_lr6 = roc_calculation(prediction_lr6)\n",
    "\n",
    "plt.figure(figsize=(6, 4))\n",
    "plt.plot(fpr_lr2, tpr_lr2, color='magenta', lw=1.4, label=f'ROC curve (feature (top) : 3) (area = {roc_auc_lr2:.2f})')\n",
    "plt.plot(fpr_lr1, tpr_lr1, color='purple', lw=1.4, label=f'ROC curve (feature (top) : 5) (area = {roc_auc_lr1:.2f})')\n",
    "plt.plot(fpr_lr3, tpr_lr3, color='orange', lw=1.4, label=f'ROC curve (feature (top) : 7) (area = {roc_auc_lr3:.2f})')\n",
    "plt.plot(fpr_lr4, tpr_lr4, color='cyan', lw=1.4, label=f'ROC curve (feature (top) : 10) (area = {roc_auc_lr4:.2f})')\n",
    "plt.plot(fpr_lr5, tpr_lr5, color='pink', lw=1.4, label=f'ROC curve (feature (top) : 15) (area = {roc_auc_lr5:.2f})')\n",
    "plt.plot(fpr_lr6, tpr_lr6, color='limegreen', lw=1.4, label=f'ROC curve (feature (top) : all) (area = {roc_auc_lr6:.2f})')\n",
    "\n",
    "plt.plot([0, 1], [0, 1], color='black', lw=1, linestyle='--')\n",
    "\n",
    "plt.xlabel('False Positive Rate')\n",
    "plt.ylabel('True Positive Rate')\n",
    "plt.title('ROC Curve (Logistic Regression)')\n",
    "plt.legend(loc='lower right', fontsize = 8)\n",
    "plt.show()"
   ]
  },
  {
   "cell_type": "markdown",
   "id": "33896b3c",
   "metadata": {},
   "source": [
    "# Confusion Matrix for Logistic Regression"
   ]
  },
  {
   "cell_type": "code",
   "execution_count": 127,
   "id": "ed46bb6f",
   "metadata": {},
   "outputs": [
    {
     "data": {
      "image/png": "[encoded data removed]",
      "text/plain": [
       "<Figure size 576x432 with 6 Axes>"
      ]
     },
     "metadata": {
      "needs_background": "light"
     },
     "output_type": "display_data"
    }
   ],
   "source": [
    "cm_lr1 = confusion_mat(prediction_lr1)\n",
    "cm_lr2 = confusion_mat(prediction_lr2)\n",
    "cm_lr3 = confusion_mat(prediction_lr3)\n",
    "cm_lr4 = confusion_mat(prediction_lr4)\n",
    "cm_lr5 = confusion_mat(prediction_lr5)\n",
    "cm_lr6 = confusion_mat(prediction_lr6)\n",
    "\n",
    "fig, axes = plt.subplots(2, 3, figsize=(8, 6))\n",
    "\n",
    "sns.heatmap(cm_lr1, annot=True, fmt='d', cmap='Accent_r', xticklabels=['0', '1'], yticklabels=['0', '1'], ax=axes[0, 0], cbar = False)\n",
    "axes[0, 0].set_xlabel('Predicted')\n",
    "axes[0, 0].set_ylabel('Actual')\n",
    "axes[0, 0].set_title('Features (top) = 3', fontsize = 8)\n",
    "\n",
    "sns.heatmap(cm_lr2, annot=True, fmt='d', cmap='Accent_r', xticklabels=['0', '1'], yticklabels=['0', '1'], ax=axes[0, 1], cbar = False)\n",
    "axes[0, 1].set_xlabel('Predicted')\n",
    "axes[0, 1].set_ylabel('Actual')\n",
    "axes[0, 1].set_title('Features (top) = 5', fontsize = 8)\n",
    "\n",
    "sns.heatmap(cm_lr3, annot=True, fmt='d', cmap='Accent_r', xticklabels=['0', '1'], yticklabels=['0', '1'], ax=axes[0, 2], cbar = False)\n",
    "axes[0, 2].set_xlabel('Predicted')\n",
    "axes[0, 2].set_ylabel('Actual')\n",
    "axes[0, 2].set_title('Feature (top) = 7', fontsize = 8)\n",
    "\n",
    "sns.heatmap(cm_lr4, annot=True, fmt='d', cmap='Accent_r', xticklabels=['0', '1'], yticklabels=['0', '1'], ax=axes[1, 0], cbar = False)\n",
    "axes[1, 0].set_xlabel('Predicted')\n",
    "axes[1, 0].set_ylabel('Actual')\n",
    "axes[1, 0].set_title('Feature (top) = 9', fontsize = 8)\n",
    "\n",
    "sns.heatmap(cm_lr5, annot=True, fmt='d', cmap='Accent_r', xticklabels=['0', '1'], yticklabels=['0', '1'], ax=axes[1, 1], cbar = False)\n",
    "axes[1, 1].set_xlabel('Predicted')\n",
    "axes[1, 1].set_ylabel('Actual')\n",
    "axes[1, 1].set_title('Feature (top) = 15', fontsize = 8)\n",
    "\n",
    "sns.heatmap(cm_lr6, annot=True, fmt='d', cmap='Accent_r', xticklabels=['0', '1'], yticklabels=['0', '1'], ax=axes[1, 2], cbar = False)\n",
    "axes[1, 2].set_xlabel('Predicted')\n",
    "axes[1, 2].set_ylabel('Actual')\n",
    "axes[1, 2].set_title('Feature (top) = all', fontsize = 8)\n",
    "\n",
    "plt.tight_layout()\n",
    "plt.show()"
   ]
  },
  {
   "cell_type": "markdown",
   "id": "3ae60348",
   "metadata": {},
   "source": [
    "# Random Forest (LR feature selection)"
   ]
  },
  {
   "cell_type": "code",
   "execution_count": 159,
   "id": "97ad832c",
   "metadata": {},
   "outputs": [],
   "source": [
    "rf = RandomForestClassifier(featuresCol = 'features', labelCol = 'y', maxBins = 8000)\n",
    "model_rf = rf.fit(train_data)\n",
    "prediction_rf6 = model_rf.transform(test_data)"
   ]
  },
  {
   "cell_type": "markdown",
   "id": "167b1a49",
   "metadata": {},
   "source": [
    "# ROC curve for Random Forest"
   ]
  },
  {
   "cell_type": "code",
   "execution_count": 167,
   "id": "ec3bde17",
   "metadata": {},
   "outputs": [
    {
     "data": {
      "image/png": "[encoded data removed]",
      "text/plain": [
       "<Figure size 432x288 with 1 Axes>"
      ]
     },
     "metadata": {
      "needs_background": "light"
     },
     "output_type": "display_data"
    }
   ],
   "source": [
    "fpr_rf1, tpr_rf1, roc_auc_rf1 = roc_calculation(prediction_rf1) \n",
    "fpr_rf2, tpr_rf2, roc_auc_rf2 = roc_calculation(prediction_rf2) \n",
    "fpr_rf3, tpr_rf3, roc_auc_rf3 = roc_calculation(prediction_rf3)\n",
    "fpr_rf4, tpr_rf4, roc_auc_rf4 = roc_calculation(prediction_rf4)\n",
    "fpr_rf5, tpr_rf5, roc_auc_rf5 = roc_calculation(prediction_rf5)\n",
    "fpr_rf6, tpr_rf6, roc_auc_rf6 = roc_calculation(prediction_rf6)\n",
    "\n",
    "plt.figure(figsize=(6, 4))\n",
    "plt.plot(fpr_rf2, tpr_rf2, color='magenta', lw=1.4, label=f'ROC curve (feature (top) : 3) (area = {roc_auc_rf2:.2f})')\n",
    "plt.plot(fpr_rf1, tpr_rf1, color='purple', lw=1.4, label=f'ROC curve (feature (top) : 5) (area = {roc_auc_rf1:.2f})')\n",
    "plt.plot(fpr_rf3, tpr_rf3, color='orange', lw=1.4, label=f'ROC curve (feature (top) : 7) (area = {roc_auc_rf3:.2f})')\n",
    "plt.plot(fpr_rf4, tpr_rf4, color='cyan', lw=1.4, label=f'ROC curve (feature (top) : 10) (area = {roc_auc_rf4:.2f})')\n",
    "plt.plot(fpr_rf5, tpr_rf5, color='pink', lw=1.4, label=f'ROC curve (feature (top) : 15) (area = {roc_auc_rf5:.2f})')\n",
    "plt.plot(fpr_rf6, tpr_rf6, color='limegreen', lw=1.4, label=f'ROC curve (feature (top) : all) (area = {roc_auc_rf6:.2f})')\n",
    "\n",
    "plt.plot([0, 1], [0, 1], color='black', lw=1, linestyle='--')\n",
    "\n",
    "plt.xlabel('False Positive Rate')\n",
    "plt.ylabel('True Positive Rate')\n",
    "plt.title('ROC Curve (Random Forest)')\n",
    "plt.legend(loc='lower right', fontsize = 8)\n",
    "plt.show()"
   ]
  },
  {
   "cell_type": "markdown",
   "id": "993062bd",
   "metadata": {},
   "source": [
    "# Confusion Matrix for Random Forest"
   ]
  },
  {
   "cell_type": "code",
   "execution_count": 168,
   "id": "ff00c145",
   "metadata": {},
   "outputs": [
    {
     "data": {
      "image/png": "[encoded data removed]",
      "text/plain": [
       "<Figure size 576x432 with 6 Axes>"
      ]
     },
     "metadata": {
      "needs_background": "light"
     },
     "output_type": "display_data"
    }
   ],
   "source": [
    "cm_rf1 = confusion_mat(prediction_rf1)\n",
    "cm_rf2 = confusion_mat(prediction_rf2)\n",
    "cm_rf3 = confusion_mat(prediction_rf3)\n",
    "cm_rf4 = confusion_mat(prediction_rf4)\n",
    "cm_rf5 = confusion_mat(prediction_rf5)\n",
    "cm_rf6 = confusion_mat(prediction_rf6)\n",
    "\n",
    "fig, axes = plt.subplots(2, 3, figsize=(8, 6))\n",
    "\n",
    "sns.heatmap(cm_rf1, annot=True, fmt='d', cmap='Accent_r', xticklabels=['0', '1'], yticklabels=['0', '1'], ax=axes[0, 0], cbar = False)\n",
    "axes[0, 0].set_xlabel('Predicted')\n",
    "axes[0, 0].set_ylabel('Actual')\n",
    "axes[0, 0].set_title('Features (top) = 3', fontsize = 8)\n",
    "\n",
    "sns.heatmap(cm_rf2, annot=True, fmt='d', cmap='Accent_r', xticklabels=['0', '1'], yticklabels=['0', '1'], ax=axes[0, 1], cbar = False)\n",
    "axes[0, 1].set_xlabel('Predicted')\n",
    "axes[0, 1].set_ylabel('Actual')\n",
    "axes[0, 1].set_title('Features (top) = 5', fontsize = 8)\n",
    "\n",
    "sns.heatmap(cm_rf3, annot=True, fmt='d', cmap='Accent_r', xticklabels=['0', '1'], yticklabels=['0', '1'], ax=axes[0, 2], cbar = False)\n",
    "axes[0, 2].set_xlabel('Predicted')\n",
    "axes[0, 2].set_ylabel('Actual')\n",
    "axes[0, 2].set_title('Feature (top) = 7', fontsize = 8)\n",
    "\n",
    "sns.heatmap(cm_rf4, annot=True, fmt='d', cmap='Accent_r', xticklabels=['0', '1'], yticklabels=['0', '1'], ax=axes[1, 0], cbar = False)\n",
    "axes[1, 0].set_xlabel('Predicted')\n",
    "axes[1, 0].set_ylabel('Actual')\n",
    "axes[1, 0].set_title('Feature (top) = 9', fontsize = 8)\n",
    "\n",
    "sns.heatmap(cm_rf5, annot=True, fmt='d', cmap='Accent_r', xticklabels=['0', '1'], yticklabels=['0', '1'], ax=axes[1, 1], cbar = False)\n",
    "axes[1, 1].set_xlabel('Predicted')\n",
    "axes[1, 1].set_ylabel('Actual')\n",
    "axes[1, 1].set_title('Feature (top) = 15', fontsize = 8)\n",
    "\n",
    "sns.heatmap(cm_rf6, annot=True, fmt='d', cmap='Accent_r', xticklabels=['0', '1'], yticklabels=['0', '1'], ax=axes[1, 2], cbar = False)\n",
    "axes[1, 2].set_xlabel('Predicted')\n",
    "axes[1, 2].set_ylabel('Actual')\n",
    "axes[1, 2].set_title('Feature (top) = all', fontsize = 8)\n",
    "\n",
    "plt.tight_layout()\n",
    "plt.show()"
   ]
  },
  {
   "cell_type": "markdown",
   "id": "03aa5d41",
   "metadata": {},
   "source": [
    "# Decision Tree (LR feature selection)"
   ]
  },
  {
   "cell_type": "code",
   "execution_count": 198,
   "id": "566c30fa",
   "metadata": {},
   "outputs": [],
   "source": [
    "dt = DecisionTreeClassifier(featuresCol = 'features', labelCol = 'y', maxBins = 8000)\n",
    "model_dt = dt.fit(train_data)\n",
    "prediction_dt6 = model_dt.transform(test_data)"
   ]
  },
  {
   "cell_type": "markdown",
   "id": "41711d56",
   "metadata": {},
   "source": [
    "# ROC curve for Decision Tree"
   ]
  },
  {
   "cell_type": "code",
   "execution_count": 200,
   "id": "437d5ed3",
   "metadata": {},
   "outputs": [
    {
     "data": {
      "image/png": "[encoded data removed]",
      "text/plain": [
       "<Figure size 432x288 with 1 Axes>"
      ]
     },
     "metadata": {
      "needs_background": "light"
     },
     "output_type": "display_data"
    }
   ],
   "source": [
    "fpr_dt1, tpr_dt1, roc_auc_dt1 = roc_calculation(prediction_dt1) \n",
    "fpr_dt2, tpr_dt2, roc_auc_dt2 = roc_calculation(prediction_dt2) \n",
    "fpr_dt3, tpr_dt3, roc_auc_dt3 = roc_calculation(prediction_dt3)\n",
    "fpr_dt4, tpr_dt4, roc_auc_dt4 = roc_calculation(prediction_dt4)\n",
    "fpr_dt5, tpr_dt5, roc_auc_dt5 = roc_calculation(prediction_dt5)\n",
    "fpr_dt6, tpr_dt6, roc_auc_dt6 = roc_calculation(prediction_dt6)\n",
    "\n",
    "plt.figure(figsize=(6, 4))\n",
    "plt.plot(fpr_dt2, tpr_dt2, color='magenta', lw=1.4, label=f'ROC curve (feature (top) : 3) (area = {roc_auc_dt2:.2f})')\n",
    "plt.plot(fpr_dt1, tpr_dt1, color='purple', lw=1.4, label=f'ROC curve (feature (top) : 5) (area = {roc_auc_dt1:.2f})')\n",
    "plt.plot(fpr_dt3, tpr_dt3, color='orange', lw=1.4, label=f'ROC curve (feature (top) : 7) (area = {roc_auc_dt3:.2f})')\n",
    "plt.plot(fpr_dt4, tpr_dt4, color='cyan', lw=1.4, label=f'ROC curve (feature (top) : 10) (area = {roc_auc_dt4:.2f})')\n",
    "plt.plot(fpr_dt5, tpr_dt5, color='pink', lw=1.4, label=f'ROC curve (feature (top) : 15) (area = {roc_auc_dt5:.2f})')\n",
    "plt.plot(fpr_dt6, tpr_dt6, color='limegreen', lw=1.4, label=f'ROC curve (feature (top) : all) (area = {roc_auc_dt6:.2f})')\n",
    "\n",
    "plt.plot([0, 1], [0, 1], color='black', lw=1, linestyle='--')\n",
    "\n",
    "plt.xlabel('False Positive Rate')\n",
    "plt.ylabel('True Positive Rate')\n",
    "plt.title('ROC Curve (Decision Tree)')\n",
    "plt.legend(loc='lower right', fontsize = 8)\n",
    "plt.show()"
   ]
  },
  {
   "cell_type": "markdown",
   "id": "6be470f8",
   "metadata": {},
   "source": [
    "# Confusion Matrix for Decision Matrix"
   ]
  },
  {
   "cell_type": "code",
   "execution_count": 201,
   "id": "a1a39b73",
   "metadata": {},
   "outputs": [
    {
     "data": {
      "image/png": "[encoded data removed]",
      "text/plain": [
       "<Figure size 576x432 with 6 Axes>"
      ]
     },
     "metadata": {
      "needs_background": "light"
     },
     "output_type": "display_data"
    }
   ],
   "source": [
    "cm_dt1 = confusion_mat(prediction_dt1)\n",
    "cm_dt2 = confusion_mat(prediction_dt2)\n",
    "cm_dt3 = confusion_mat(prediction_dt3)\n",
    "cm_dt4 = confusion_mat(prediction_dt4)\n",
    "cm_dt5 = confusion_mat(prediction_dt5)\n",
    "cm_dt6 = confusion_mat(prediction_dt6)\n",
    "\n",
    "fig, axes = plt.subplots(2, 3, figsize=(8, 6))\n",
    "\n",
    "sns.heatmap(cm_dt1, annot=True, fmt='d', cmap='Accent_r', xticklabels=['0', '1'], yticklabels=['0', '1'], ax=axes[0, 0], cbar = False)\n",
    "axes[0, 0].set_xlabel('Predicted')\n",
    "axes[0, 0].set_ylabel('Actual')\n",
    "axes[0, 0].set_title('Features (top) = 3', fontsize = 8)\n",
    "\n",
    "sns.heatmap(cm_dt2, annot=True, fmt='d', cmap='Accent_r', xticklabels=['0', '1'], yticklabels=['0', '1'], ax=axes[0, 1], cbar = False)\n",
    "axes[0, 1].set_xlabel('Predicted')\n",
    "axes[0, 1].set_ylabel('Actual')\n",
    "axes[0, 1].set_title('Features (top) = 5', fontsize = 8)\n",
    "\n",
    "sns.heatmap(cm_dt3, annot=True, fmt='d', cmap='Accent_r', xticklabels=['0', '1'], yticklabels=['0', '1'], ax=axes[0, 2], cbar = False)\n",
    "axes[0, 2].set_xlabel('Predicted')\n",
    "axes[0, 2].set_ylabel('Actual')\n",
    "axes[0, 2].set_title('Feature (top) = 7', fontsize = 8)\n",
    "\n",
    "sns.heatmap(cm_dt4, annot=True, fmt='d', cmap='Accent_r', xticklabels=['0', '1'], yticklabels=['0', '1'], ax=axes[1, 0], cbar = False)\n",
    "axes[1, 0].set_xlabel('Predicted')\n",
    "axes[1, 0].set_ylabel('Actual')\n",
    "axes[1, 0].set_title('Feature (top) = 9', fontsize = 8)\n",
    "\n",
    "sns.heatmap(cm_dt5, annot=True, fmt='d', cmap='Accent_r', xticklabels=['0', '1'], yticklabels=['0', '1'], ax=axes[1, 1], cbar = False)\n",
    "axes[1, 1].set_xlabel('Predicted')\n",
    "axes[1, 1].set_ylabel('Actual')\n",
    "axes[1, 1].set_title('Feature (top) = 15', fontsize = 8)\n",
    "\n",
    "sns.heatmap(cm_dt6, annot=True, fmt='d', cmap='Accent_r', xticklabels=['0', '1'], yticklabels=['0', '1'], ax=axes[1, 2], cbar = False)\n",
    "axes[1, 2].set_xlabel('Predicted')\n",
    "axes[1, 2].set_ylabel('Actual')\n",
    "axes[1, 2].set_title('Feature (top) = all', fontsize = 8)\n",
    "\n",
    "plt.tight_layout()\n",
    "plt.show()"
   ]
  },
  {
   "cell_type": "markdown",
   "id": "7985561c",
   "metadata": {},
   "source": [
    "# Gradient Boosting (LR feature selection)"
   ]
  },
  {
   "cell_type": "code",
   "execution_count": 233,
   "id": "e556fbae",
   "metadata": {},
   "outputs": [],
   "source": [
    "gb = GBTClassifier(featuresCol = 'features', labelCol = 'y', maxBins = 8000)\n",
    "gb_model = gb.fit(train_data)\n",
    "prediction_gb6 = gb_model.transform(test_data)"
   ]
  },
  {
   "cell_type": "markdown",
   "id": "8acfb870",
   "metadata": {},
   "source": [
    "# ROC curve for Gradient Boosting"
   ]
  },
  {
   "cell_type": "code",
   "execution_count": 235,
   "id": "a880b53c",
   "metadata": {},
   "outputs": [
    {
     "data": {
      "image/png": "[encoded data removed]",
      "text/plain": [
       "<Figure size 432x288 with 1 Axes>"
      ]
     },
     "metadata": {
      "needs_background": "light"
     },
     "output_type": "display_data"
    }
   ],
   "source": [
    "fpr_gb1, tpr_gb1, roc_auc_gb1 = roc_calculation(prediction_gb1) \n",
    "fpr_gb2, tpr_gb2, roc_auc_gb2 = roc_calculation(prediction_gb2) \n",
    "fpr_gb3, tpr_gb3, roc_auc_gb3 = roc_calculation(prediction_gb3)\n",
    "fpr_gb4, tpr_gb4, roc_auc_gb4 = roc_calculation(prediction_gb4)\n",
    "fpr_gb5, tpr_gb5, roc_auc_gb5 = roc_calculation(prediction_gb5)\n",
    "fpr_gb6, tpr_gb6, roc_auc_gb6 = roc_calculation(prediction_gb6)\n",
    "\n",
    "plt.figure(figsize=(6, 4))\n",
    "plt.plot(fpr_gb2, tpr_gb2, color='magenta', lw=1.4, label=f'ROC curve (feature (top) : 3) (area = {roc_auc_gb2:.2f})')\n",
    "plt.plot(fpr_gb1, tpr_gb1, color='purple', lw=1.4, label=f'ROC curve (feature (top) : 5) (area = {roc_auc_gb1:.2f})')\n",
    "plt.plot(fpr_gb3, tpr_gb3, color='orange', lw=1.4, label=f'ROC curve (feature (top) : 7) (area = {roc_auc_gb3:.2f})')\n",
    "plt.plot(fpr_gb4, tpr_gb4, color='cyan', lw=1.4, label=f'ROC curve (feature (top) : 10) (area = {roc_auc_gb4:.2f})')\n",
    "plt.plot(fpr_gb5, tpr_gb5, color='pink', lw=1.4, label=f'ROC curve (feature (top) : 15) (area = {roc_auc_gb5:.2f})')\n",
    "plt.plot(fpr_gb6, tpr_gb6, color='limegreen', lw=1.4, label=f'ROC curve (feature (top) : all) (area = {roc_auc_gb6:.2f})')\n",
    "\n",
    "plt.plot([0, 1], [0, 1], color='black', lw=1, linestyle='--')\n",
    "\n",
    "plt.xlabel('False Positive Rate')\n",
    "plt.ylabel('True Positive Rate')\n",
    "plt.title('ROC Curve (Gradient Boosting)')\n",
    "plt.legend(loc='lower right', fontsize = 8)\n",
    "plt.show()"
   ]
  },
  {
   "cell_type": "markdown",
   "id": "99783193",
   "metadata": {},
   "source": [
    "# Confusion Matrix for Gradient Boosting"
   ]
  },
  {
   "cell_type": "code",
   "execution_count": 236,
   "id": "fc932be2",
   "metadata": {},
   "outputs": [
    {
     "data": {
      "image/png": "[encoded data removed]",
      "text/plain": [
       "<Figure size 576x432 with 6 Axes>"
      ]
     },
     "metadata": {
      "needs_background": "light"
     },
     "output_type": "display_data"
    }
   ],
   "source": [
    "cm_gb1 = confusion_mat(prediction_gb1)\n",
    "cm_gb2 = confusion_mat(prediction_gb2)\n",
    "cm_gb3 = confusion_mat(prediction_gb3)\n",
    "cm_gb4 = confusion_mat(prediction_gb4)\n",
    "cm_gb5 = confusion_mat(prediction_gb5)\n",
    "cm_gb6 = confusion_mat(prediction_gb6)\n",
    "\n",
    "fig, axes = plt.subplots(2, 3, figsize=(8, 6))\n",
    "\n",
    "sns.heatmap(cm_gb1, annot=True, fmt='d', cmap='Accent_r', xticklabels=['0', '1'], yticklabels=['0', '1'], ax=axes[0, 0], cbar = False)\n",
    "axes[0, 0].set_xlabel('Predicted')\n",
    "axes[0, 0].set_ylabel('Actual')\n",
    "axes[0, 0].set_title('Features (top) = 3', fontsize = 8)\n",
    "\n",
    "sns.heatmap(cm_gb2, annot=True, fmt='d', cmap='Accent_r', xticklabels=['0', '1'], yticklabels=['0', '1'], ax=axes[0, 1], cbar = False)\n",
    "axes[0, 1].set_xlabel('Predicted')\n",
    "axes[0, 1].set_ylabel('Actual')\n",
    "axes[0, 1].set_title('Features (top) = 5', fontsize = 8)\n",
    "\n",
    "sns.heatmap(cm_gb3, annot=True, fmt='d', cmap='Accent_r', xticklabels=['0', '1'], yticklabels=['0', '1'], ax=axes[0, 2], cbar = False)\n",
    "axes[0, 2].set_xlabel('Predicted')\n",
    "axes[0, 2].set_ylabel('Actual')\n",
    "axes[0, 2].set_title('Feature (top) = 7', fontsize = 8)\n",
    "\n",
    "sns.heatmap(cm_gb4, annot=True, fmt='d', cmap='Accent_r', xticklabels=['0', '1'], yticklabels=['0', '1'], ax=axes[1, 0], cbar = False)\n",
    "axes[1, 0].set_xlabel('Predicted')\n",
    "axes[1, 0].set_ylabel('Actual')\n",
    "axes[1, 0].set_title('Feature (top) = 9', fontsize = 8)\n",
    "\n",
    "sns.heatmap(cm_gb5, annot=True, fmt='d', cmap='Accent_r', xticklabels=['0', '1'], yticklabels=['0', '1'], ax=axes[1, 1], cbar = False)\n",
    "axes[1, 1].set_xlabel('Predicted')\n",
    "axes[1, 1].set_ylabel('Actual')\n",
    "axes[1, 1].set_title('Feature (top) = 15', fontsize = 8)\n",
    "\n",
    "sns.heatmap(cm_gb6, annot=True, fmt='d', cmap='Accent_r', xticklabels=['0', '1'], yticklabels=['0', '1'], ax=axes[1, 2], cbar = False)\n",
    "axes[1, 2].set_xlabel('Predicted')\n",
    "axes[1, 2].set_ylabel('Actual')\n",
    "axes[1, 2].set_title('Feature (top) = all', fontsize = 8)\n",
    "\n",
    "plt.tight_layout()\n",
    "plt.show()"
   ]
  },
  {
   "cell_type": "code",
   "execution_count": null,
   "id": "a932f347",
   "metadata": {},
   "outputs": [],
   "source": []
  }
 ],
 "metadata": {
  "kernelspec": {
   "display_name": "Python 3",
   "language": "python",
   "name": "python3"
  },
  "language_info": {
   "codemirror_mode": {
    "name": "ipython",
    "version": 3
   },
   "file_extension": ".py",
   "mimetype": "text/x-python",
   "name": "python",
   "nbconvert_exporter": "python",
   "pygments_lexer": "ipython3",
   "version": "3.8.8"
  }
 },
 "nbformat": 4,
 "nbformat_minor": 5
}
